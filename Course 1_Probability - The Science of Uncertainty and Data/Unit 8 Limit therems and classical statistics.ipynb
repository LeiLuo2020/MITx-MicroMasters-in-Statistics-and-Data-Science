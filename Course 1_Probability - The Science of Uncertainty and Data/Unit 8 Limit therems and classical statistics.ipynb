{
 "cells": [
  {
   "cell_type": "markdown",
   "metadata": {},
   "source": [
    "## 18.1 Unit overview"
   ]
  },
  {
   "cell_type": "markdown",
   "metadata": {},
   "source": [
    "### 18.1.1 Motivation\n",
    "\n",
    "https://youtu.be/Xj-QvRBDEi8\n",
    "\n",
    "Notes:\n",
    "\n",
    "- Airline overbooked tickets due to 10% passengers on average being not present. What's the maximum number of tickets an airline should sell on a flight with 300 seats? You'll know how to calculate it using central limit theory."
   ]
  },
  {
   "cell_type": "markdown",
   "metadata": {},
   "source": [
    "## 18.2 Lecture 18 Inequalities, convergence, and the Weak Law of Large Numbers"
   ]
  },
  {
   "cell_type": "markdown",
   "metadata": {},
   "source": [
    "### 18.2.1 Unit 8 overview\n",
    "\n",
    "https://youtu.be/Kgjc7VU3nUk\n",
    "\n",
    "The material is covered in section 5.1-5.4 and 9.1 of the text.\n",
    "\n",
    "- Weaklaw of large numbers: the observed avg of a large number of independent identically distributed random variables, called sample mean, converged to expected value\n",
    "- Central limit theorem: provide details of the distribution of the sum of n i.i.d r.v.s. \n",
    "- Estimate an unknow mean with measurements of \"accuracy of estimates\" and \"confidence intervals\"\n",
    "Note: It's different from previous estimation on:\n",
    "(1) make no assumption on the unknown quantity that is being estimated.\n",
    "(2) not modeled as a r.v but just as an unknown constant\n",
    "(3) cannot invoke the Bayers rule\n",
    "Thus it's a very different conceptual setting, called non-Bayersian or classical statistics.\n",
    "- Basic rule of classical statistics"
   ]
  },
  {
   "cell_type": "markdown",
   "metadata": {},
   "source": [
    "### 18.2.2 The Markov inequality\n",
    "\n",
    "https://youtu.be/7OYJoExDHA0\n",
    "\n",
    "Notes:\n",
    "\n",
    "Basic ideas under the Markov inequality and many other inequalities and bounds in probability theory:\n",
    "\n",
    "- learn about probabiliteis of \"extreme events\" which some variables take very large value\n",
    "- Markov inequality: if $X \\geq 0$ and $a > 0$, then $P(X \\geq a) \\leq \\frac{E[X]}{a}$: the probability of X that exceeds a is bounded\n",
    "\n",
    "**Derive method 1**\n",
    "Assume X is a conteneous r.v.s (the discrete case is similar), then \n",
    "\n",
    "$E[X] = \\int_{0}^\\infty xf_x (x)d_x \\geq \\int_{a}^\\infty xf_x(x)d_x \\geq \\int_{a}^\\infty af_x(x)d_x = aP(x \\geq a)$\n",
    "\n",
    "**Derive method 2**\n",
    "\n",
    "$$\n",
    "Y = \\left\\{\n",
    "  \\begin{array}\\\\\n",
    "     0 & \\mbox{if } X < a \\\\\n",
    "     a & \\mbox{if } X \\geq a \\\\\n",
    "  \\end{array}\n",
    "\\right.\n",
    "$$\n",
    "\n",
    "We know $aP(X \\geq a) = E[Y] \\leq E[X]$"
   ]
  },
  {
   "cell_type": "markdown",
   "metadata": {},
   "source": []
  }
 ],
 "metadata": {
  "kernelspec": {
   "display_name": "Python 3",
   "language": "python",
   "name": "python3"
  },
  "language_info": {
   "codemirror_mode": {
    "name": "ipython",
    "version": 3
   },
   "file_extension": ".py",
   "mimetype": "text/x-python",
   "name": "python",
   "nbconvert_exporter": "python",
   "pygments_lexer": "ipython3",
   "version": "3.7.3"
  }
 },
 "nbformat": 4,
 "nbformat_minor": 2
}
