{
 "cells": [
  {
   "cell_type": "markdown",
   "metadata": {},
   "source": [
    "## 18.1 Unit overview"
   ]
  },
  {
   "cell_type": "markdown",
   "metadata": {},
   "source": [
    "### 18.1.1 Motivation\n",
    "\n",
    "https://youtu.be/Xj-QvRBDEi8\n",
    "\n",
    "Notes:\n",
    "\n",
    "- Airline overbooked tickets due to 10% passengers on average being not present. What's the maximum number of tickets an airline should sell on a flight with 300 seats? You'll know how to calculate it using central limit theory."
   ]
  },
  {
   "cell_type": "markdown",
   "metadata": {},
   "source": [
    "## 18.2 Lecture 18 Inequalities, convergence, and the Weak Law of Large Numbers"
   ]
  },
  {
   "cell_type": "markdown",
   "metadata": {},
   "source": [
    "### 18.2.1 Unit 8 overview\n",
    "\n",
    "https://youtu.be/Kgjc7VU3nUk\n",
    "\n",
    "The material is covered in section 5.1-5.4 and 9.1 of the text.\n",
    "\n",
    "- Weaklaw of large numbers: the observed avg of a large number of independent identically distributed random variables, called sample mean, converged to expected value\n",
    "- Central limit theorem: provide details of the distribution of the sum of n i.i.d r.v.s. \n",
    "- Estimate an unknow mean with measurements of \"accuracy of estimates\" and \"confidence intervals\"\n",
    "Note: It's different from previous estimation on:\n",
    "(1) make no assumption on the unknown quantity that is being estimated.\n",
    "(2) not modeled as a r.v but just as an unknown constant\n",
    "(3) cannot invoke the Bayers rule\n",
    "Thus it's a very different conceptual setting, called non-Bayersian or classical statistics.\n",
    "- Basic rule of classical statistics"
   ]
  },
  {
   "cell_type": "markdown",
   "metadata": {},
   "source": [
    "### 18.2.2 The Markov inequality\n",
    "\n",
    "https://youtu.be/7OYJoExDHA0\n",
    "\n",
    "Notes:\n",
    "\n",
    "Basic ideas under the Markov inequality and many other inequalities and bounds in probability theory:\n",
    "\n",
    "- learn about probabiliteis of \"extreme events\" which some variables take very large value\n",
    "- Markov inequality: if $X \\geq 0$ and $a > 0$, then $P(X \\geq a) \\leq \\frac{E[X]}{a}$: the probability of X that exceeds a is bounded\n",
    "\n",
    "**Derive method 1**\n",
    "Assume X is a conteneous r.v.s (the discrete case is similar), then \n",
    "\n",
    "$E[X] = \\int_{0}^\\infty xf_x (x)d_x \\geq \\int_{a}^\\infty xf_x(x)d_x \\geq \\int_{a}^\\infty af_x(x)d_x = aP(x \\geq a)$\n",
    "\n",
    "**Derive method 2**\n",
    "\n",
    "$$\n",
    "Y = \\left\\{\n",
    "  \\begin{array}\\\\\n",
    "     0 & \\mbox{if } X < a \\\\\n",
    "     a & \\mbox{if } X \\geq a \\\\\n",
    "  \\end{array}\n",
    "\\right.\n",
    "$$\n",
    "\n",
    "We know $aP(X \\geq a) = E[Y] \\leq E[X]$\n",
    "\n",
    "- Two examles: watch them again"
   ]
  },
  {
   "cell_type": "markdown",
   "metadata": {},
   "source": [
    "### 18.2.3 Exercise Markov inequality\n",
    "\n",
    "<img src=\"images/18.2.3 Exercise Markov inequality.png\">"
   ]
  },
  {
   "cell_type": "markdown",
   "metadata": {},
   "source": [
    "### 18.2.4 The Chebyshev inequality\n",
    "\n",
    "https://youtu.be/1vUkgWZf8xU\n",
    "\n",
    "\n",
    "Notes:\n",
    "\n",
    "- The Chebyshev inequality: Given a r.v. X with finite mean $\\mu$ and variance $\\sigma^2$, if the variance is small, then X is unlikely to be too far from the mean. Mathematically, $P(|X - \\mu| \\geq c) \\leq \\frac{\\sigma^2}{c^2}$\n",
    "\n",
    "- It is a simple application of the Markov inequality but contain a different message\n",
    "\n",
    "- How to prove:  $P(|x - \\mu|) = P((x - \\mu)^2) \\leq \\frac{E[(x-\\mu)^2]}{c^2} = \\frac{\\sigma^2}{c^2}$\n",
    "\n",
    "Application Example 1:\n",
    "The distance from mean is at least k standard deviations where k > 0.\n",
    "\n",
    "$P(|X - \\mu| \\geq k\\sigma) \\leq \\frac{\\sigma^2}{k^2 \\sigma} = \\frac{1}{k^2}$\n",
    "\n",
    "\n",
    "Application Example 2:\n",
    "\n",
    "X is exponential ($\\lambda = 1$): $P(X \\geq a) \\leq \\frac{1}{a}$ (Markov)\n",
    "\n",
    "<img src=\"images/18.2.4 Exercise Chebyshev inequality.png\">\n",
    "\n",
    "It indicates that The Chebyshev inequality gives us a much smaller bound and therefore more informative than what we obtained from the Markov inequality as it exploits more information about the distribution of the r.v. X., which not just use the knowledge of mean of the r.v. but also use some information about the variance of the r.v."
   ]
  },
  {
   "cell_type": "markdown",
   "metadata": {},
   "source": [
    "### 18.2.5 Exercise Chebyshev inequality\n",
    "\n",
    "<img src=\"images/18.2.5 Exercise Chebyshev inequality.png\">"
   ]
  },
  {
   "cell_type": "markdown",
   "metadata": {},
   "source": [
    "### 18.2.6 Exercise Chebyshev versus Markov\n",
    "\n",
    "<img src=\"images/18.2.6 Exercise Chebyshev versus Markov.png\">"
   ]
  },
  {
   "cell_type": "markdown",
   "metadata": {},
   "source": [
    "### 18.2.7 The Weak Law of Large Numbers\n",
    "\n",
    "https://youtu.be/YOPiC3oLogU"
   ]
  },
  {
   "attachments": {},
   "cell_type": "markdown",
   "metadata": {},
   "source": [
    "### 18.2.8 Exercise Sample mean bounds\n",
    "\n",
    "<img src=\"images/18.2.8 Exercise Sample mean bounds.png\">"
   ]
  },
  {
   "cell_type": "markdown",
   "metadata": {},
   "source": [
    "### 18.2.9 Polling\n",
    "\n",
    "https://youtu.be/-sLyJw06tL8"
   ]
  },
  {
   "cell_type": "markdown",
   "metadata": {},
   "source": [
    "### 18.2.10 Exercise Polling\n",
    "\n",
    "<img src=\"images/18.2.10 Exercise Polling.png\">"
   ]
  },
  {
   "cell_type": "markdown",
   "metadata": {},
   "source": [
    "### 18.2.11 Convergence in probability\n",
    "\n",
    "https://youtu.be/yT102uPFJw4"
   ]
  },
  {
   "cell_type": "markdown",
   "metadata": {},
   "source": [
    "### 18.2.12 Convergence in probability examples\n",
    "\n",
    "https://youtu.be/Ti0syfE2e4c"
   ]
  },
  {
   "cell_type": "markdown",
   "metadata": {},
   "source": [
    "### 18.2.13 Exercise Convergence in probability\n",
    "\n",
    "<img src=\"images/18.2.13 Exercise Convergence in probability.png\">"
   ]
  },
  {
   "cell_type": "markdown",
   "metadata": {},
   "source": [
    "### 18.2.14 Related topics\n",
    "\n",
    "https://youtu.be/mR2udEr2pPM"
   ]
  },
  {
   "cell_type": "markdown",
   "metadata": {},
   "source": [
    "## 18.3 Lecture 19 The Central Limit Theorem"
   ]
  },
  {
   "cell_type": "markdown",
   "metadata": {},
   "source": [
    "### 18.3.1 Lecture 19 overview and slides\n",
    "\n",
    "https://youtu.be/H-llL9ke_pA\n",
    "\n",
    "Section 5.4 of the textbook."
   ]
  },
  {
   "cell_type": "markdown",
   "metadata": {},
   "source": [
    "### 18.3.2 The Central Limit Theorem\n",
    "\n",
    "https://youtu.be/ethm2HoZtE8"
   ]
  },
  {
   "cell_type": "markdown",
   "metadata": {},
   "source": [
    "### 18.3.3 Exercise CLT\n",
    "\n",
    "<img src=\"images/18.3.3 Exercise CLT.png\">"
   ]
  },
  {
   "cell_type": "markdown",
   "metadata": {},
   "source": [
    "### 18.3.4 Discussion of the CLT\n",
    "\n",
    "https://youtu.be/43tM56dYwIw"
   ]
  },
  {
   "cell_type": "markdown",
   "metadata": {},
   "source": [
    "### 18.3.5 Exercise CLT applicability\n",
    "\n",
    "<img src=\"images/18.3.5 Exercise CLT applicability1.png\">\n",
    "<img src=\"images/18.3.5 Exercise CLT applicability2.png\">"
   ]
  },
  {
   "cell_type": "markdown",
   "metadata": {},
   "source": [
    "### 18.3. 6 Illustration of the CLT\n",
    "\n",
    "https://youtu.be/Q8g3sPvxHUw"
   ]
  },
  {
   "cell_type": "markdown",
   "metadata": {},
   "source": [
    "### 18.3.7 CLT examples\n",
    "\n",
    "https://youtu.be/0XaD4PXmJbk"
   ]
  },
  {
   "cell_type": "markdown",
   "metadata": {},
   "source": [
    "### 18.3.8 Exercise CLT practice\n",
    "\n",
    "<img src=\"images/18.3.8 Exercise CLT practice.png\">"
   ]
  },
  {
   "cell_type": "markdown",
   "metadata": {},
   "source": [
    "### 18.3. 9 Normal approximation to the binomial\n",
    "\n",
    "https://youtu.be/Zr8KmnfQNJw"
   ]
  },
  {
   "cell_type": "markdown",
   "metadata": {},
   "source": [
    "### 18.3.10 Exercise CLT for the binomial\n",
    "\n",
    "<img src=\"images/18.3.10 Exercise CLT for the binomial.png\">"
   ]
  },
  {
   "cell_type": "markdown",
   "metadata": {},
   "source": [
    "### 18.3.11 Polling revisited\n",
    "\n",
    "https://youtu.be/8PLZvnmTkQk"
   ]
  },
  {
   "cell_type": "markdown",
   "metadata": {},
   "source": [
    "## 18.4 Lecture 20 An introduction to classical statistics"
   ]
  },
  {
   "cell_type": "markdown",
   "metadata": {},
   "source": [
    "### 18.4.1 Lecture 20 overview and slides\n",
    "\n",
    "https://youtu.be/UC9Tlm3l7AE\n",
    "\n",
    "Refer to section 9.1 of the text.\n",
    "\n",
    "Notes:\n",
    "\n",
    "a brief introduction to the so-called classical (non-Bayesian) statistical methods:\n",
    "\n",
    "- the general framework\n",
    "- estimation based on sample means, confidence intervals, and maximum likelihood estimation. "
   ]
  },
  {
   "cell_type": "markdown",
   "metadata": {},
   "source": [
    "### 18.4.2 Overview of the classical statistical framework\n",
    "\n",
    "https://youtu.be/vdaxiJBG7qs"
   ]
  },
  {
   "cell_type": "markdown",
   "metadata": {},
   "source": [
    "### 18.4.3 The sample mean and some terminology\n",
    "\n",
    "https://youtu.be/Fz_7ymWGx0o"
   ]
  },
  {
   "cell_type": "markdown",
   "metadata": {},
   "source": [
    "### 18.4.4 Exercis Estimator properties\n",
    "\n",
    "<img src=\"images/18.4.4 Exercis Estimator properties.png\">"
   ]
  },
  {
   "cell_type": "markdown",
   "metadata": {},
   "source": [
    "### 18.4.5 On the mean squared error of an estimator\n",
    "\n",
    "https://youtu.be/Rw5uq3Js9ZA"
   ]
  },
  {
   "cell_type": "markdown",
   "metadata": {},
   "source": [
    "### 18.4.6 Confidence intervals\n",
    "\n",
    "https://youtu.be/16P8lB9TPMo"
   ]
  },
  {
   "cell_type": "markdown",
   "metadata": {},
   "source": [
    "### 18.4.7 Exercise Bias and MSE\n",
    "\n",
    "<img src=\"images/18.4.7 Exercise Bias and MSE.png\">"
   ]
  },
  {
   "cell_type": "markdown",
   "metadata": {},
   "source": [
    "### 18.4.8 Exercise Confidence interval interpretation\n",
    "\n",
    "<img src=\"images/18.4.8 Exercise Confidence interval interpretation.png\">"
   ]
  },
  {
   "cell_type": "markdown",
   "metadata": {},
   "source": [
    "### 18.4.9 Exercise A simple CI\n",
    "\n",
    "<img src=\"images/18.4.9 Exercise A simple CI.png\">"
   ]
  },
  {
   "cell_type": "markdown",
   "metadata": {},
   "source": [
    "### 18.4.10 Confidence intervals for an unknown mean\n",
    "\n",
    "https://youtu.be/ekLmfHCbXOA"
   ]
  },
  {
   "cell_type": "markdown",
   "metadata": {},
   "source": [
    "### 18.4.11 Exercise CI's via the CLT\n",
    "\n",
    "<img src=\"images/18.4.11 Exercise CI's via the CLT.png\">"
   ]
  },
  {
   "cell_type": "markdown",
   "metadata": {},
   "source": [
    "### 18.4.12 Confidence intervals for the mean when the variance is unknown\n",
    "\n",
    "https://youtu.be/SBS06u2KwFU"
   ]
  },
  {
   "cell_type": "markdown",
   "metadata": {},
   "source": [
    "### 18.4.13 Other natural estimators\n",
    "\n",
    "https://youtu.be/Vev2rMQOYtw"
   ]
  },
  {
   "cell_type": "markdown",
   "metadata": {},
   "source": [
    "### 18.4.14 Exercise Natural estimators\n",
    "\n",
    "<img src=\"images/18.4.14 Exercise Natural estimators.png\">"
   ]
  },
  {
   "cell_type": "markdown",
   "metadata": {},
   "source": [
    "### 18.4.15 Maximum likelihood estimation\n",
    "\n",
    "https://youtu.be/af6iD1AA6rY"
   ]
  },
  {
   "cell_type": "markdown",
   "metadata": {},
   "source": [
    "### 18.4.16 Maximum likelihood estimation examples\n",
    "\n",
    "https://youtu.be/osCutN2MFzA"
   ]
  },
  {
   "cell_type": "markdown",
   "metadata": {},
   "source": [
    "### 18.4.17 Exercise ML estimation\n",
    "\n",
    "<img src=\"images/18.14.17 Exercise ML estimation.png\">"
   ]
  },
  {
   "cell_type": "markdown",
   "metadata": {},
   "source": [
    "## 18.5 Solved Problems"
   ]
  },
  {
   "cell_type": "markdown",
   "metadata": {},
   "source": [
    "### 18.5.1 Convergence in probability example\n",
    "\n",
    "<img src=\"images/18.5.1 Convergence in probability example.png\">\n",
    "\n",
    "https://youtu.be/rTectvxtPm4\n",
    "\n"
   ]
  },
  {
   "cell_type": "markdown",
   "metadata": {},
   "source": [
    "### 18.5.2 Convergence in probability and in the mean square - Part I\n",
    "\n",
    "<img src=\"images/18.5.2 Convergence in probability and in the mean square - Part I.png\">\n",
    "\n",
    "https://youtu.be/HRFM5q6374o\n",
    "\n",
    "<img src=\"images/18.5.2 Convergence in probability and in the mean square - Part I1.png\">"
   ]
  },
  {
   "cell_type": "markdown",
   "metadata": {},
   "source": [
    "### 18.5.3 Convergence in probability and in the mean square - Part II\n",
    "\n",
    "<img src=\"images/Convergence in probability and in the mean square - Part II.png\">\n",
    "\n",
    "https://youtu.be/eoKxh7eznr4"
   ]
  },
  {
   "cell_type": "markdown",
   "metadata": {},
   "source": [
    "### 18.5.4 Probability bounds\n",
    "\n",
    "<img src=\"images/18.5.4 Probability bounds.png\">\n",
    "\n",
    "https://youtu.be/8s6hXXA9mKM"
   ]
  },
  {
   "cell_type": "markdown",
   "metadata": {},
   "source": [
    "### 18.5.5 Using the CLT to estimate the probability of a wrong decision\n",
    "\n",
    "<img src=\"images/18.5.5 Using the CLT to estimate the probability of a wrong decision.png\">\n",
    "\n",
    "https://youtu.be/qjtb4VTNOQQ"
   ]
  },
  {
   "cell_type": "markdown",
   "metadata": {},
   "source": [
    "### 18.5.6 Using the CLT\n",
    "\n",
    "<img src=\"images/18.5.6 Using the CLT.png\">\n",
    "\n",
    "https://youtu.be/9Xl2fRK3q9M"
   ]
  },
  {
   "cell_type": "markdown",
   "metadata": {},
   "source": [
    "### 18.5.7 An unbiased variance estimator\n",
    "\n",
    "<img src=\"images/18.5.7 An unbiased variance estimator.png\">\n",
    "\n",
    "https://youtu.be/6H_Wmn9kozg\n",
    "\n",
    "Solution can be found on pages 467-468 of the text."
   ]
  },
  {
   "cell_type": "markdown",
   "metadata": {},
   "source": []
  }
 ],
 "metadata": {
  "kernelspec": {
   "display_name": "Python 3",
   "language": "python",
   "name": "python3"
  },
  "language_info": {
   "codemirror_mode": {
    "name": "ipython",
    "version": 3
   },
   "file_extension": ".py",
   "mimetype": "text/x-python",
   "name": "python",
   "nbconvert_exporter": "python",
   "pygments_lexer": "ipython3",
   "version": "3.7.3"
  }
 },
 "nbformat": 4,
 "nbformat_minor": 2
}
