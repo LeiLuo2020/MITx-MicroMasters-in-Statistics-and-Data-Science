{
 "cells": [
  {
   "cell_type": "markdown",
   "metadata": {},
   "source": [
    "## 4.1 Unit Overview\n",
    "### 4.1.1 Movivation\n",
    "\n",
    "Video URL: https://youtu.be/RZicT7yvgsw"
   ]
  },
  {
   "cell_type": "markdown",
   "metadata": {},
   "source": [
    "### 4.1.2 oveview\n",
    "\n",
    "The material in this unit is covered in Chapter 2 of the text.\n",
    "\n",
    "(1) Random variables\n",
    "\n",
    "- Distribution\n",
    "- Expectation, variance\n",
    "\n",
    "(2) Four main threads\n",
    "\n",
    "- Definitions, notation\n",
    "- Properties of expectation and variance\n",
    "- conditioning and independence\n",
    "- total probability/expectation theorem\n",
    "\n",
    "(3) Discrete random variables\n",
    "\n",
    "- Pay attention to notation"
   ]
  },
  {
   "cell_type": "markdown",
   "metadata": {},
   "source": [
    "## 4.2 Lec 5 Probability mass functions and expectations\n",
    "### 4.2.1 overview\n",
    "\n",
    "Video URL:https://youtu.be/h-tcojervlg"
   ]
  },
  {
   "cell_type": "markdown",
   "metadata": {},
   "source": [
    "### 4.2.2Definition of random variables\n",
    "\n",
    "Video URL: https://youtu.be/l2f743SpPiw"
   ]
  }
 ],
 "metadata": {
  "kernelspec": {
   "display_name": "Python 3",
   "language": "python",
   "name": "python3"
  },
  "language_info": {
   "codemirror_mode": {
    "name": "ipython",
    "version": 3
   },
   "file_extension": ".py",
   "mimetype": "text/x-python",
   "name": "python",
   "nbconvert_exporter": "python",
   "pygments_lexer": "ipython3",
   "version": "3.7.3"
  }
 },
 "nbformat": 4,
 "nbformat_minor": 2
}
