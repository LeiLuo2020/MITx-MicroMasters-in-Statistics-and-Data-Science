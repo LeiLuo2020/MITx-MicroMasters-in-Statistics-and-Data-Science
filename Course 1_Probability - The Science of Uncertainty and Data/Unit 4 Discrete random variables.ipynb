{
 "cells": [
  {
   "cell_type": "markdown",
   "metadata": {},
   "source": [
    "## 4.1 Unit Overview\n",
    "### 4.1.1 Movivation\n",
    "\n",
    "Video URL: https://youtu.be/RZicT7yvgsw"
   ]
  },
  {
   "cell_type": "markdown",
   "metadata": {},
   "source": [
    "### 4.1.2 oveview\n",
    "\n",
    "The material in this unit is covered in Chapter 2 of the text.\n",
    "\n",
    "(1) Random variables\n",
    "\n",
    "- Distribution\n",
    "- Expectation, variance\n",
    "\n",
    "(2) Four main threads\n",
    "\n",
    "- Definitions, notation\n",
    "- Properties of expectation and variance\n",
    "- conditioning and independence\n",
    "- total probability/expectation theorem\n",
    "\n",
    "(3) Discrete random variables\n",
    "\n",
    "- Pay attention to notation"
   ]
  },
  {
   "cell_type": "markdown",
   "metadata": {},
   "source": [
    "## 4.2 Lec 5 Probability mass functions and expectations\n",
    "### 4.2.1 overview\n",
    "\n",
    "Video URL:https://youtu.be/h-tcojervlg"
   ]
  },
  {
   "cell_type": "markdown",
   "metadata": {},
   "source": [
    "### 4.2.2 Definition of random variables\n",
    "\n",
    "Video URL: https://youtu.be/l2f743SpPiw\n",
    "\n",
    "<img src=\"images/4.2.2 Definition of random variables.png\">"
   ]
  },
  {
   "cell_type": "markdown",
   "metadata": {},
   "source": [
    "### 4.2.3 Exercise: Random variables\n",
    "\n",
    "<img src=\"images/4.2.3 Exercise Random variables.png\">"
   ]
  },
  {
   "cell_type": "markdown",
   "metadata": {},
   "source": [
    "### 4.2.4 Probability mass functions\n",
    "\n",
    "Video URL: https://youtu.be/La49EMG5Ar4\n",
    "\n",
    "<img src=\"images/4.2.4 Probability mass functions1.png\">\n",
    "<img src=\"images/4.2.4 Probability mass functions2.png\">"
   ]
  },
  {
   "cell_type": "markdown",
   "metadata": {},
   "source": [
    "### 4.2.5 Exercise: PMG Calculation\n",
    "\n",
    "<img src=\"images/4.2.5 Exercise PMG Calculation.png\">"
   ]
  },
  {
   "cell_type": "markdown",
   "metadata": {},
   "source": [
    "### 4.2.6 Exercise: Random variables versus numbers\n",
    "\n",
    "<img src=\"images/4.2.6 Exercise Random variables versus numbers.png\">"
   ]
  },
  {
   "cell_type": "markdown",
   "metadata": {},
   "source": [
    "### 4.2.7 Bernoulli and indicator random variables\n",
    "\n",
    "Video URL: https://youtu.be/vokziIl_3Eo\n",
    "\n",
    "<img src=\"images/4.2.7 Bernoulli and indicator random variables.png\">"
   ]
  },
  {
   "cell_type": "markdown",
   "metadata": {},
   "source": [
    "### 4.2.8 Exercise Indicator variables\n",
    "\n",
    "<img src=\"images/4.2.8 Exercise Indicator variables1.png\">\n",
    "<img src=\"images/4.2.8 Exercise Indicator variables2.png\">"
   ]
  },
  {
   "cell_type": "markdown",
   "metadata": {},
   "source": [
    "### 4.2.9 Uniform random variables\n",
    "\n",
    "Video URL: https://youtu.be/_fwDUx5JpH8\n",
    "\n",
    "<img src=\"images/4.2.9 Uniform random variables.png\">"
   ]
  },
  {
   "cell_type": "markdown",
   "metadata": {},
   "source": [
    "### 4.2.10 Binomial random variables\n",
    "\n",
    "Video URL: https://youtu.be/TRsSsOruga4\n",
    "\n",
    "<img src=\"images/4.2.10 Binomial random variables1.png\">\n",
    "<img src=\"images/4.2.10 Binomial random variables2.png\">"
   ]
  },
  {
   "cell_type": "markdown",
   "metadata": {},
   "source": [
    "### 4.2.11 Exercise The binomial PMF\n",
    "\n",
    "<img src=\"images/4.2.11 Exercise The binomial PMF.png\">"
   ]
  },
  {
   "cell_type": "markdown",
   "metadata": {},
   "source": [
    "### 4.2.12 Geometric random variables\n",
    "\n",
    "Video URL: https://youtu.be/PtUpe1Vj264\n",
    "\n",
    "<img src=\"images/4.2.12 Geometric random variables.png\">"
   ]
  },
  {
   "cell_type": "markdown",
   "metadata": {},
   "source": [
    "### 4.2.13 Exercise Geometric random variables\n",
    "\n",
    "<img src=\"images/4.2.13 Exercise Geometric random variables.png\">\n",
    "\n",
    "**Hint**: Event {X >= 10} means the first 9 trials are failed."
   ]
  },
  {
   "cell_type": "markdown",
   "metadata": {},
   "source": [
    "### 4.2.14 expectations\n",
    "\n",
    "Video URL: https://youtu.be/Eih56jZ3bcA\n",
    "\n",
    "<img src=\"images/4.2.14 expectations1.png\">\n",
    "<img src=\"images/4.2.14 expectations2.png\">\n",
    "<img src=\"images/4.2.14 expectations3.png\">\n",
    "<img src=\"images/4.2.14 expectations4.png\">"
   ]
  },
  {
   "cell_type": "markdown",
   "metadata": {},
   "source": [
    "### 4.2.15 Exercise Expectation calculation\n",
    "\n",
    "<img src=\"images/4.2.15 Exercise Expectation calculation.png\">"
   ]
  },
  {
   "cell_type": "markdown",
   "metadata": {},
   "source": [
    "### 4.2.16 Elementary properties of expectation\n",
    "\n",
    "Video URL: https://youtu.be/wCvxYC_RgI8\n",
    "\n",
    "<img src=\"images/4.2.16 Elementary properties of expectation.png\">"
   ]
  },
  {
   "cell_type": "markdown",
   "metadata": {},
   "source": [
    "### 4.2.17 Exercise Random variables with bounded range\n",
    "\n",
    "<img src=\"images/4.2.17 Exercise Random variables with bounded range.png\">"
   ]
  },
  {
   "cell_type": "markdown",
   "metadata": {},
   "source": [
    "### 4.2.18 The expected value rule\n",
    "\n",
    "Video URL: https://youtu.be/Xa9tPXx8SSk\n",
    "\n",
    "<img src=\"images/4.2.18 The expected value rule.png\">"
   ]
  },
  {
   "cell_type": "markdown",
   "metadata": {},
   "source": [
    "### 4.2.19 Exercise The expected value rule\n",
    "\n",
    "<img src=\"images/4.2.19 Exercise The expected value rule.png\">"
   ]
  },
  {
   "cell_type": "markdown",
   "metadata": {},
   "source": [
    "### 4.2.20 Linearity of expectations\n",
    "\n",
    "Video URL: https://youtu.be/jmV3UFDJRYc\n",
    "\n",
    "<img src=\"images/4.2.20 Linearity of expectations.png\">"
   ]
  },
  {
   "cell_type": "markdown",
   "metadata": {},
   "source": [
    "### 4.2.21 Exercise Linearity of expectations\n",
    "\n",
    "<img src=\"images/4.2.21 Exercise Linearity of expectations.png\">"
   ]
  },
  {
   "cell_type": "markdown",
   "metadata": {},
   "source": [
    "## 4.3 Lec 6 Variance, conditioning on an event"
   ]
  },
  {
   "cell_type": "markdown",
   "metadata": {},
   "source": [
    "### 4.3.1 overveiw\n",
    "\n",
    "<img src=\"images/4.3.1 overveiw.png\">"
   ]
  },
  {
   "cell_type": "markdown",
   "metadata": {},
   "source": [
    "### 4.3.2 Variance\n",
    "\n",
    "<img src=\"images/4.3.2 Variance1.png\">\n",
    "<img src=\"images/4.3.2 Variance2.png\">\n",
    "<img src=\"images/4.3.2 Variance3.png\">"
   ]
  },
  {
   "cell_type": "markdown",
   "metadata": {},
   "source": [
    "### 4.3.3 Exercise Variance calculation\n",
    "\n",
    "<img src=\"images/4.3.3 Exercise Variance calculation.png\">"
   ]
  },
  {
   "cell_type": "markdown",
   "metadata": {},
   "source": [
    "### 4.3.4 Exercise Variance properties\n",
    "\n",
    "<img src=\"images/4.3.4 Exercise Variance properties.png\">\n",
    "\n",
    "**Hints**: The variances are always nonnegative."
   ]
  },
  {
   "cell_type": "markdown",
   "metadata": {},
   "source": [
    "### 4.3.5 Variance of the Bernoulli and the uniform\n",
    "\n",
    "<img src=\"images/4.3.5 Variance of the Bernoulli and the uniform1.png\">\n",
    "<img src=\"images/4.3.5 Variance of the Bernoulli and the uniform2.png\">"
   ]
  },
  {
   "cell_type": "markdown",
   "metadata": {},
   "source": [
    "### 4.3.6 Exercise Variance of the uniform\n",
    "\n",
    "<img src=\"images/4.3.6 Exercise Variance of the uniform.png\">"
   ]
  },
  {
   "cell_type": "markdown",
   "metadata": {},
   "source": [
    "### 4.3.7 Conditional PMFs and expectations given an event\n",
    "\n",
    "Video URL: https://youtu.be/xB-G8zmwghA\n",
    "\n",
    "<img src=\"images/4.3.7 Conditional PMFs and expectations given an event1.png\">\n",
    "<img src=\"images/4.3.7 Conditional PMFs and expectations given an event2.png\">"
   ]
  },
  {
   "cell_type": "markdown",
   "metadata": {},
   "source": [
    "### 4.3.8 Exercise Conditional variance\n",
    "\n",
    "<img src=\"images/4.3.8 Exercise Conditional variance.png\">"
   ]
  },
  {
   "cell_type": "markdown",
   "metadata": {},
   "source": [
    "### 4.3.9 Total expectation theorem\n",
    "\n",
    "Video URL: https://youtu.be/AcujBxMJhO4\n",
    "\n",
    "**Why conditional probabilities are very useful?**\n",
    "\n",
    "- They allow us to split complicated probability models into simplier submodels that we can then analyze one at a time\n",
    "\n",
    "<img src=\"images/4.3.9 Total expectation theorem1.png\">\n",
    "<img src=\"images/4.3.9 Total expectation theorem2.png\">"
   ]
  },
  {
   "cell_type": "markdown",
   "metadata": {},
   "source": [
    "### 4.3.10 Geometric PMF, memory lessness, and expectation\n",
    "\n",
    "Video URL: https://youtu.be/yn6yjk_sI_g\n",
    "\n",
    "<img src=\"images/4.3.10 Geometric PMF, memory lessness, and expectation1.png\">\n",
    "<img src=\"images/4.3.10 Geometric PMF, memory lessness, and expectation2.png\">\n",
    "<img src=\"images/4.3.10 Geometric PMF, memory lessness, and expectation3.png\">\n",
    "<img src=\"images/4.3.10 Geometric PMF, memory lessness, and expectation4.png\">\n",
    "\n",
    "Note: The variance of a geometric random variable with parameter p is equal to $(1−p)/p^2$. This is shown in the “Additional theoretical material\"."
   ]
  },
  {
   "cell_type": "markdown",
   "metadata": {},
   "source": [
    "### 4.3.11 Exercise Total Expectation Calculation\n",
    "\n",
    "<img src=\"images/4.3.11 Exercise Total Expectation Calculation.png\">"
   ]
  },
  {
   "cell_type": "markdown",
   "metadata": {},
   "source": [
    "### 4.1.12 Exercise Memorylessness of the geometric\n",
    "\n"
   ]
  }
 ],
 "metadata": {
  "kernelspec": {
   "display_name": "Python 3",
   "language": "python",
   "name": "python3"
  },
  "language_info": {
   "codemirror_mode": {
    "name": "ipython",
    "version": 3
   },
   "file_extension": ".py",
   "mimetype": "text/x-python",
   "name": "python",
   "nbconvert_exporter": "python",
   "pygments_lexer": "ipython3",
   "version": "3.7.3"
  }
 },
 "nbformat": 4,
 "nbformat_minor": 2
}
