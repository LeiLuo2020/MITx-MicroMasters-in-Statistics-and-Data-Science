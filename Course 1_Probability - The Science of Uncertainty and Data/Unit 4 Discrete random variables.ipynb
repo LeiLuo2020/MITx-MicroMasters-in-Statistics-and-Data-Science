{
 "cells": [
  {
   "cell_type": "markdown",
   "metadata": {},
   "source": [
    "## 4.1 Unit Overview\n",
    "### 4.1.1 Movivation\n",
    "\n",
    "Video URL: https://youtu.be/RZicT7yvgsw"
   ]
  },
  {
   "cell_type": "markdown",
   "metadata": {},
   "source": [
    "### 4.1.2 oveview\n",
    "\n",
    "The material in this unit is covered in Chapter 2 of the text.\n",
    "\n",
    "(1) Random variables\n",
    "\n",
    "- Distribution\n",
    "- Expectation, variance\n",
    "\n",
    "(2) Four main threads\n",
    "\n",
    "- Definitions, notation\n",
    "- Properties of expectation and variance\n",
    "- conditioning and independence\n",
    "- total probability/expectation theorem\n",
    "\n",
    "(3) Discrete random variables\n",
    "\n",
    "- Pay attention to notation"
   ]
  },
  {
   "cell_type": "markdown",
   "metadata": {},
   "source": [
    "## 4.2 Lec 5 Probability mass functions and expectations\n",
    "### 4.2.1 overview\n",
    "\n",
    "Video URL:https://youtu.be/h-tcojervlg"
   ]
  },
  {
   "cell_type": "markdown",
   "metadata": {},
   "source": [
    "### 4.2.2 Definition of random variables\n",
    "\n",
    "Video URL: https://youtu.be/l2f743SpPiw\n",
    "\n",
    "<img src=\"images/4.2.2 Definition of random variables.png\">"
   ]
  },
  {
   "cell_type": "markdown",
   "metadata": {},
   "source": [
    "### 4.2.3 Exercise: Random variables\n",
    "\n",
    "<img src=\"images/4.2.3 Exercise Random variables.png\">"
   ]
  },
  {
   "cell_type": "markdown",
   "metadata": {},
   "source": [
    "### 4.2.4 Probability mass functions\n",
    "\n",
    "Video URL: https://youtu.be/La49EMG5Ar4\n",
    "\n",
    "<img src=\"images/4.2.4 Probability mass functions1.png\">\n",
    "<img src=\"images/4.2.4 Probability mass functions2.png\">"
   ]
  },
  {
   "cell_type": "markdown",
   "metadata": {},
   "source": [
    "### 4.2.5 Exercise: PMG Calculation\n",
    "\n",
    "<img src=\"images/4.2.5 Exercise PMG Calculation.png\">"
   ]
  },
  {
   "cell_type": "markdown",
   "metadata": {},
   "source": [
    "### 4.2.6 Exercise: Random variables versus numbers\n",
    "\n",
    "<img src=\"images/4.2.6 Exercise Random variables versus numbers.png\">"
   ]
  },
  {
   "cell_type": "markdown",
   "metadata": {},
   "source": [
    "### 4.2.7 Bernoulli and indicator random variables\n",
    "\n",
    "Video URL: https://youtu.be/vokziIl_3Eo\n",
    "\n",
    "<img src=\"images/4.2.7 Bernoulli and indicator random variables.png\">"
   ]
  },
  {
   "cell_type": "markdown",
   "metadata": {},
   "source": [
    "### 4.2.8 Exercise Indicator variables\n",
    "\n",
    "<img src=\"images/4.2.8 Exercise Indicator variables1.png\">\n",
    "<img src=\"images/4.2.8 Exercise Indicator variables2.png\">"
   ]
  },
  {
   "cell_type": "markdown",
   "metadata": {},
   "source": [
    "### 4.2.9 Uniform random variables\n",
    "\n",
    "Video URL: https://youtu.be/_fwDUx5JpH8\n",
    "\n",
    "<img src=\"images/4.2.9 Uniform random variables.png\">"
   ]
  },
  {
   "cell_type": "markdown",
   "metadata": {},
   "source": [
    "### 4.2.10 Binomial random variables\n",
    "\n",
    "Video URL: https://youtu.be/TRsSsOruga4\n",
    "\n",
    "<img src=\"images/4.2.10 Binomial random variables1.png\">\n",
    "<img src=\"images/4.2.10 Binomial random variables2.png\">"
   ]
  },
  {
   "cell_type": "markdown",
   "metadata": {},
   "source": [
    "### 4.2.11 Exercise The binomial PMF\n",
    "\n",
    "<img src=\"images/4.2.11 Exercise The binomial PMF.png\">"
   ]
  },
  {
   "cell_type": "markdown",
   "metadata": {},
   "source": [
    "### 4.2.12 Geometric random variables\n",
    "\n",
    "Video URL: https://youtu.be/PtUpe1Vj264\n",
    "\n",
    "<img src=\"images/4.2.12 Geometric random variables.png\">"
   ]
  },
  {
   "cell_type": "markdown",
   "metadata": {},
   "source": [
    "### 4.2.13 Exercise Geometric random variables\n",
    "\n"
   ]
  }
 ],
 "metadata": {
  "kernelspec": {
   "display_name": "Python 3",
   "language": "python",
   "name": "python3"
  },
  "language_info": {
   "codemirror_mode": {
    "name": "ipython",
    "version": 3
   },
   "file_extension": ".py",
   "mimetype": "text/x-python",
   "name": "python",
   "nbconvert_exporter": "python",
   "pygments_lexer": "ipython3",
   "version": "3.7.3"
  }
 },
 "nbformat": 4,
 "nbformat_minor": 2
}
