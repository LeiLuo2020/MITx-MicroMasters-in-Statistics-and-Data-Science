{
 "cells": [
  {
   "cell_type": "markdown",
   "metadata": {},
   "source": [
    "## 5.1 Unit overview\n",
    "### 5.1.1 Motivation\n",
    "\n",
    "Here is a fun problem: A sheet of paper is ruled with parallel lines that are equal distance from each other. I throw a needle on the paper randomly. What is the probability that the needle will intersect one of the lines?\n",
    "<img src=\"images/5.1.1 Motivation1.png\">\n",
    "\n",
    "Here is another question: A cell phone tower sends signals carrying voice, text, and digital data to your cell phone. These signals are always corrupted by some noises. How would you describe or model the noise and how would you evaluate the probability that the signal is incorrectly received? \n",
    "<img src=\"images/5.1.1 Motivation2.png\">\n",
    "\n",
    "In both examples above, we can model the underlying phenomena in terms of continous random variables."
   ]
  },
  {
   "cell_type": "markdown",
   "metadata": {},
   "source": [
    "### 5.1.2 Overview\n",
    "\n",
    "**Why continuous?**\n",
    "\n",
    "- physical quantities are often continuous\n",
    "- the power of calculus\n",
    "- convenient approximations\n",
    "\n",
    "**Same threads as in the discrete case:**\n",
    "\n",
    "- definitions, notation\n",
    "- properties of expectation and variance\n",
    "- conditioning and independence\n",
    "- total probability/expectation theorem\n",
    "\n",
    "**Why continuous?**\n",
    "\n",
    "- physical quantities are often continuous\n",
    "- the power of calculus\n",
    "- convenient approximations\n",
    "\n",
    "**Same threads as in the discrete case:**\n",
    "\n",
    "- definitions, notation\n",
    "- properties of expectation and variance\n",
    "- conditioning and independence\n",
    "- total probability/expectation theorem\n",
    "\n",
    "**Additional elements:**\n",
    "\n",
    "- some concepts are more subtle\n",
    "- interesting versions of Bayes’ rule"
   ]
  },
  {
   "cell_type": "markdown",
   "metadata": {},
   "source": [
    "## 5.2 Lecture 8 Continuous random variables and probability density functions\n",
    "### 5.2.1 Overview and Slides\n",
    "\n",
    "In this lecture, we focus on a single continuous random variable, described in terms of a probability density function. We discuss the expectation, variance, and a new concept – the cumulative distribution function. We illustrate the concepts through specific examples of common random variables (uniform, exponential) and finally introduce the very important normal distribution.\n",
    "\n",
    "<img src=\"images/5.2.1 Overview and Slides.png\">"
   ]
  },
  {
   "cell_type": "markdown",
   "metadata": {},
   "source": [
    "### 5.2.2 PDFs\n",
    "\n",
    "Video URL: https://youtu.be/XqHGmCC_NXk\n",
    "\n",
    "<img src=\"images/5.2.2 PDFs1.png\">\n",
    "\n",
    "We use PDF to calculate the probability (the area) that X lies in a certain interval. Mathematically, area under the curve is just an integral.\n",
    "\n",
    "<img src=\"images/5.2.2 PDFs2.png\">"
   ]
  },
  {
   "cell_type": "markdown",
   "metadata": {},
   "source": [
    "### 5.2.3 Exercise: PDFs\n",
    "\n",
    "<img src=\"images/5.2.3 Exercise PDFs.png\">"
   ]
  },
  {
   "cell_type": "markdown",
   "metadata": {},
   "source": [
    "### 5.2.4 Uniform and piecewise constant PDFs\n",
    "\n",
    "Video URL: https://youtu.be/BxFLB3ehpQo\n",
    "\n",
    "<img src=\"images/5.2.4 Uniform and piecewise constant PDFs.png\">"
   ]
  },
  {
   "cell_type": "markdown",
   "metadata": {},
   "source": [
    "### 5.2.5 Exercise: Piecewise constant PDF\n",
    "\n",
    "<img src=\"images/5.2.5 Exercise Piecewise constant PDF.png\">\n",
    "\n",
    "**Hints**:\n",
    "\n",
    "a) The total areas equal to 1\n",
    "\n",
    "b) Caculate the area of 1/2<= X <= 3/2"
   ]
  },
  {
   "cell_type": "markdown",
   "metadata": {},
   "source": [
    "### 5.2.6 Means and variances\n",
    "\n",
    "Video URL: https://youtu.be/VMoi5b93vHs\n",
    "\n",
    "<img src=\"images/5.2.6 Means and variances1.png\">\n",
    "<img src=\"images/5.2.6 Means and variances2.png\">\n",
    "<img src=\"images/5.2.6 Means and variances3.png\">"
   ]
  },
  {
   "cell_type": "markdown",
   "metadata": {},
   "source": [
    "### 5.2.7 Exercise: Uniform PDF\n",
    "\n",
    "<img src=\"images/5.2.7 Exercise Uniform PDF.png\">"
   ]
  },
  {
   "cell_type": "markdown",
   "metadata": {},
   "source": [
    "### 5.2.8 Mean and variance of the uniform\n",
    "\n",
    "Video URL: https://youtu.be/76PIh08l5RY\n",
    "\n",
    "<img src=\"images/5.2.8 Mean and variance of the uniform.png\">"
   ]
  },
  {
   "cell_type": "markdown",
   "metadata": {},
   "source": [
    "### 5.2.9 Exponential random variables\n",
    "\n",
    "Video URL: https://youtu.be/ReNhZAtZfVA\n",
    "\n",
    "<img src=\"images/5.2.9 Exponential random variables.png\">"
   ]
  },
  {
   "cell_type": "markdown",
   "metadata": {},
   "source": [
    "### 5.2.10 Exercise: Exponential PDF\n",
    "\n",
    "<img src=\"images/5.2.10 Exercise Exponential PDF.png\">"
   ]
  },
  {
   "cell_type": "markdown",
   "metadata": {},
   "source": [
    "### 5.2.11 Cumulative distribution functions\n",
    "\n",
    "Video URL: https://youtu.be/uKmS9pPCPBo\n",
    "\n",
    "<img src=\"images/5.2.11 Cumulative distribution function1.png\">\n",
    "\n",
    "<img src=\"images/5.2.11 Cumulative distribution function2.png\">\n",
    "\n",
    "<img src=\"images/5.2.11 Cumulative distribution function3.png\">"
   ]
  },
  {
   "cell_type": "markdown",
   "metadata": {},
   "source": [
    "### 5.2.12 Exercise: Exponential CDF\n",
    "\n",
    "<img src=\"images/5.2.12 Exercise Exponential CDF.png\">"
   ]
  },
  {
   "attachments": {},
   "cell_type": "markdown",
   "metadata": {},
   "source": [
    "### 5.2.13 Normal random variables\n",
    "\n",
    "Video URL: https://youtu.be/Xry1IaoIyLI\n",
    "\n",
    "<img src=\"images/5.2.13 Normal random variables1.png\">\n",
    "<img src=\"images/5.2.13 Normal random variables2.png\">\n",
    "<img src=\"images/5.2.13 Normal random variables3.png\">\n",
    "<img src=\"images/5.2.13 Normal random variables4.png\">"
   ]
  },
  {
   "cell_type": "markdown",
   "metadata": {},
   "source": [
    "### 5.2.14 Exercise Normal random variables\n",
    "\n",
    "<img src=\"images/5.2.14 Exercise Normal random variables.png\">"
   ]
  },
  {
   "cell_type": "markdown",
   "metadata": {},
   "source": [
    "### 5.2.15 Calculation of normal probabilities\n",
    "\n",
    "Video URL: https://youtu.be/l9HnIKtFYi0\n",
    "\n",
    "<img src=\"images/5.2.15 Calculation of normal probabilities1.png\">\n",
    "<img src=\"images/5.2.15 Calculation of normal probabilities2.png\">\n",
    "<img src=\"images/5.2.15 Calculation of normal probabilities3.png\">"
   ]
  },
  {
   "cell_type": "markdown",
   "metadata": {},
   "source": [
    "### 5.2.16 Exercise Using the normal tables\n",
    "\n",
    "<img src=\"images/5.2.16 Exercise Using the normal tables.png\">"
   ]
  },
  {
   "cell_type": "markdown",
   "metadata": {},
   "source": [
    "## 5.3 Lec 9 Conditioning on an event; Multiple continuous R.V.S"
   ]
  },
  {
   "cell_type": "markdown",
   "metadata": {},
   "source": [
    "### 5.3.1 overview\n",
    "\n",
    "In this lecture, we introduce the conditional distribution of a random variable given an event, and then introduce the joint PDF as a way of describing the joint distribution of multiple random variables. More info is in section 3.5, 3.6 of the text.\n",
    "\n",
    "Video URL: https://youtu.be/Zw2ewltgV3Q\n",
    "\n",
    "<img src=\"images/5.3.1 overview.png\">"
   ]
  },
  {
   "cell_type": "markdown",
   "metadata": {},
   "source": [
    "### 5.3.2 Conditioning a continuous random variable on an event\n",
    "\n",
    "Video URL: https://youtu.be/ajki07PRbGU\n",
    "\n",
    "<img src=\"images/5.3.2 Conditioning a continuous random variable on an event1.png\">\n",
    "<img src=\"images/5.3.2 Conditioning a continuous random variable on an event2.png\">\n",
    "<img src=\"images/5.3.2 Conditioning a continuous random variable on an event3.png\">\n",
    "<img src=\"images/5.3.2 Conditioning a continuous random variable on an event4.png\">"
   ]
  },
  {
   "cell_type": "markdown",
   "metadata": {},
   "source": [
    "### 5.3.3  Exercise: A conditional PDF\n",
    "\n",
    "<img src=\"images/5.3.3  Exercise A conditional PDF.png\">"
   ]
  },
  {
   "cell_type": "markdown",
   "metadata": {},
   "source": [
    "### 5.3.4 Conditioning example\n",
    "\n",
    "Video URL: https://youtu.be/tEpbQb7ZhzI\n"
   ]
  },
  {
   "cell_type": "markdown",
   "metadata": {},
   "source": [
    "### 5.3.5 Memorylessness of the exponential PDF\n",
    "\n",
    "Video URL: https://youtu.be/sL92ai-DfJw\n"
   ]
  },
  {
   "cell_type": "markdown",
   "metadata": {},
   "source": [
    "### 5.3.6 Exercise: Memorylessness of the exponential\n",
    "\n",
    "<img src=\"images/5.3.6 Exercise Memorylessness of the exponential1.png\">\n",
    "<img src=\"images/5.3.6 Exercise Memorylessness of the exponential2.png\">"
   ]
  },
  {
   "cell_type": "markdown",
   "metadata": {},
   "source": [
    "### 5.3.7 Total probability and expectation theorems\n",
    "\n",
    "Video URL: https://youtu.be/NEkDb1RmqYY"
   ]
  },
  {
   "cell_type": "markdown",
   "metadata": {},
   "source": [
    "### 5.3.8 Exercise: Total probability theorem II\n",
    "\n",
    "<img src=\"images/5.3.8 Exercise Total probability theorem II.png\">"
   ]
  },
  {
   "cell_type": "markdown",
   "metadata": {},
   "source": [
    "### 5.3.9 Mixed random variables\n",
    "\n",
    "Video URL: https://youtu.be/965d38Vv7zw"
   ]
  },
  {
   "cell_type": "markdown",
   "metadata": {},
   "source": [
    "### 5.3.10 Exercise: A mixed random variable\n",
    "\n",
    "<img src=\"images/5.3.10 Exercise A mixed random variable.png\">"
   ]
  },
  {
   "cell_type": "markdown",
   "metadata": {},
   "source": [
    "### 5.3.11 Joint PDFs\n",
    "\n",
    "Video URL: https://youtu.be/o6IiZV6Rv-Y\n",
    "\n"
   ]
  },
  {
   "cell_type": "markdown",
   "metadata": {},
   "source": [
    "### 5.3.12 Exercise: Jointly continuous r.v.'s\n",
    "\n",
    "<img src=\"images/5.3.12 Exercise Jointly continuous r.v.'s.png\">"
   ]
  },
  {
   "cell_type": "markdown",
   "metadata": {},
   "source": [
    "### 5.3.13 Exercise: From joint PDFs to probabilities\n",
    "\n",
    "<img src=\"images/5.3.13 Exercise From joint PDFs to probabilities.png\">"
   ]
  },
  {
   "cell_type": "markdown",
   "metadata": {},
   "source": [
    "### 5.3.14 From the joint to the marginal\n",
    "\n",
    "Video URL: https://youtu.be/YKsrbQRv3VE\n",
    "\n"
   ]
  },
  {
   "cell_type": "markdown",
   "metadata": {},
   "source": [
    "### 5.3.15 Exercise: Finding a marginal PDF\n",
    "\n",
    "<img src=\"images/5.3.15 Exercise Finding a marginal PDF.png\">"
   ]
  },
  {
   "cell_type": "markdown",
   "metadata": {},
   "source": [
    "### 5.3.16 Continuous analogs of various properties\n",
    "\n",
    "Video URL: https://youtu.be/_s3pBOucvmY"
   ]
  },
  {
   "cell_type": "markdown",
   "metadata": {},
   "source": [
    "### 5.3.17 Exercise: From joint PDFs to the marginals\n",
    "\n",
    "<img src=\"images/5.3.17 Exercise From joint PDFs to the marginals.png\">"
   ]
  },
  {
   "cell_type": "markdown",
   "metadata": {},
   "source": [
    "### 5.3.18 Joint CDFs\n",
    "\n",
    "Video URL: https://youtu.be/Awnieu-7jpg\n"
   ]
  },
  {
   "cell_type": "markdown",
   "metadata": {},
   "source": [
    "### 5.3.19 Exercise: Joint CDFs\n",
    "\n",
    "<img src=\"images/5.3.19 Exercise Joint CDFs.png\">"
   ]
  },
  {
   "cell_type": "markdown",
   "metadata": {},
   "source": [
    "## 5.4 Lecture 10 \n",
    "### 5.4.1 overview and slides\n",
    "\n",
    "In this lecture, we introduce conditional PDFs, for describing the conditional distribution of a continuous random variable given another. We also introduce the concept of independence of continuous random variables and present some of the consequences of independence. We finally develop four variants of the Bayes rule, including variants that apply to the case where one random variable is discrete and another is continuous.\n",
    "\n",
    "Video URL: https://youtu.be/TVhFpY0cFl0\n",
    "\n"
   ]
  },
  {
   "cell_type": "markdown",
   "metadata": {},
   "source": [
    "### 5.4.2 Conditional PDFs\n",
    "\n",
    "Video URL: https://youtu.be/1Iy_U7vhHZk\n",
    "\n"
   ]
  },
  {
   "cell_type": "markdown",
   "metadata": {},
   "source": [
    "### 5.4.3 Exercise: Conditional PDF\n",
    "\n",
    "<img src=\"images/5.4.3 Exercise Conditional PDF.png\">"
   ]
  },
  {
   "cell_type": "markdown",
   "metadata": {},
   "source": [
    "### 5.4.4 Comments on conditional PDFs\n",
    "\n",
    "Video URL: https://youtu.be/CK4KNSYbTmA\n"
   ]
  },
  {
   "cell_type": "markdown",
   "metadata": {},
   "source": [
    "### 5.4.5 Exercise: Conditional PDFs\n",
    "\n",
    "<img src=\"images/5.4.5 Exercise Conditional PDFs.png\">"
   ]
  },
  {
   "cell_type": "markdown",
   "metadata": {},
   "source": [
    "### 5.4.6 Total probability and total expectation theorems\n",
    "\n",
    "Video URL: https://youtu.be/gSh395Ista4\n",
    "\n"
   ]
  },
  {
   "cell_type": "markdown",
   "metadata": {},
   "source": [
    "### 5.4.7 Exercise: Expected value rule and total expectation theorem"
   ]
  },
  {
   "cell_type": "markdown",
   "metadata": {},
   "source": [
    "### 5.4.8 Independence\n",
    "\n",
    "Video URL: https://youtu.be/UEQR1HQsGsY\n",
    "\n"
   ]
  },
  {
   "cell_type": "markdown",
   "metadata": {},
   "source": [
    "### 5.4.9 Exercise: Definition of independence\n",
    "\n",
    "<img src=\"images/5.4.9 Exercise Definition of independence.png\">"
   ]
  },
  {
   "cell_type": "markdown",
   "metadata": {},
   "source": [
    "### 5.4.10 Exercise: Independence and expectations II\n",
    "\n",
    "<img src=\"images/5.4.10 Exercise Independence and expectations II.png\">"
   ]
  },
  {
   "cell_type": "markdown",
   "metadata": {},
   "source": [
    "### 5.4.11 Exercise: Independence and CDFs\n",
    "\n",
    "<img src=\"images/5.4.11 Exercise Independence and CDFs.png\">"
   ]
  },
  {
   "cell_type": "markdown",
   "metadata": {},
   "source": [
    "### 5.4.12 Stick-breaking example\n",
    "\n",
    "Video URL: https://youtu.be/3IJfrT6qVLA\n",
    "\n"
   ]
  },
  {
   "cell_type": "markdown",
   "metadata": {},
   "source": [
    "### 5.4.13 Exercise: Stick-breaking\n",
    "\n",
    "<img src=\"images/5.4.13 Exercise Stick-breaking.jpg\">"
   ]
  },
  {
   "cell_type": "markdown",
   "metadata": {},
   "source": [
    "### 5.4.14 Independent normals\n",
    "\n",
    "Video URL: https://youtu.be/zLx8721gYek\n",
    "\n"
   ]
  },
  {
   "cell_type": "markdown",
   "metadata": {},
   "source": [
    "### 5.4.15 Exercise: Independent normals\n",
    "\n",
    "<img src=\"images/5.4.15 Exercise Independent normals.png\">"
   ]
  },
  {
   "cell_type": "markdown",
   "metadata": {},
   "source": [
    "### 5.4.16 Bayes rule variations\n",
    "\n",
    "Video URL:https://youtu.be/ZHnvjcn6D-0"
   ]
  },
  {
   "cell_type": "markdown",
   "metadata": {},
   "source": [
    "### 5.4.17 Exercise: The discrete Bayes rule\n",
    "\n",
    "<img src=\"images/5.4.17 Exercise The discrete Bayes rule.png\">"
   ]
  },
  {
   "cell_type": "markdown",
   "metadata": {},
   "source": [
    "### 5.4.18 Mixed Bayes rule\n",
    "\n",
    "Video URL: https://youtu.be/SMKiXsEY2ZY"
   ]
  },
  {
   "cell_type": "markdown",
   "metadata": {},
   "source": [
    "### 5.4.19 Detection of a binary signal\n",
    "\n",
    "Video URL: https://youtu.be/AiXmkA0Cj1I\n",
    "\n",
    "<img src=\"images/5.4.19 Detection of a binary signal1.png\">"
   ]
  },
  {
   "cell_type": "markdown",
   "metadata": {},
   "source": [
    "### 5.4.20 Exercise: Discrete unknown, continuous measurement\n",
    "\n"
   ]
  },
  {
   "cell_type": "markdown",
   "metadata": {},
   "source": [
    "### 5.4.21 Inference of the bias of a coin\n",
    "\n",
    "Video URL: https://youtu.be/KeNyYl3xzvs\n"
   ]
  },
  {
   "cell_type": "markdown",
   "metadata": {},
   "source": [
    "### 5.4.22 Exercise: Inference of the bias of a coin\n",
    "\n"
   ]
  },
  {
   "cell_type": "markdown",
   "metadata": {},
   "source": [
    "## 5.6 Problem Set 5\n",
    "### 5.6.1 Normal random variables\n",
    "\n"
   ]
  },
  {
   "cell_type": "markdown",
   "metadata": {},
   "source": [
    "### 5.6.2 CDF\n",
    "\n",
    "<img src=\"images/5.6.2 CDF1.png\">\n",
    "<img src=\"images/5.6.2 CDF2.png\">"
   ]
  },
  {
   "cell_type": "markdown",
   "metadata": {},
   "source": [
    "### 5.6.3  A joint PDF given by a simple formula\n",
    "\n",
    "<img src=\"images/5.6.3  A joint PDF given by a simple formula.png\">"
   ]
  },
  {
   "cell_type": "markdown",
   "metadata": {},
   "source": [
    "### 5.6.4 Sophia's vacation\n",
    "\n",
    "<img src=\"images/5.6.4 Sophia's vacation1.png\">\n",
    "<img src=\"images/5.6.4 Sophia's vacation2.png\">"
   ]
  },
  {
   "cell_type": "markdown",
   "metadata": {},
   "source": [
    "### 5.6.5 True or False\n",
    "\n",
    "<img src=\"images/5.6.5 True or False.png\">"
   ]
  },
  {
   "cell_type": "code",
   "execution_count": null,
   "metadata": {},
   "outputs": [],
   "source": []
  }
 ],
 "metadata": {
  "kernelspec": {
   "display_name": "Python 3",
   "language": "python",
   "name": "python3"
  },
  "language_info": {
   "codemirror_mode": {
    "name": "ipython",
    "version": 3
   },
   "file_extension": ".py",
   "mimetype": "text/x-python",
   "name": "python",
   "nbconvert_exporter": "python",
   "pygments_lexer": "ipython3",
   "version": "3.7.3"
  }
 },
 "nbformat": 4,
 "nbformat_minor": 2
}
