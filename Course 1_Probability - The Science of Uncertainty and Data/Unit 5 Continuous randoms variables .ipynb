{
 "cells": [
  {
   "cell_type": "markdown",
   "metadata": {},
   "source": [
    "## 5.1 Unit overview\n",
    "### 5.1.1 Motivation\n",
    "\n",
    "Here is a fun problem: A sheet of paper is ruled with parallel lines that are equal distance from each other. I throw a needle on the paper randomly. What is the probability that the needle will intersect one of the lines?\n",
    "<img src=\"images/5.1.1 Motivation1.png\">\n",
    "\n",
    "Here is another question: A cell phone tower sends signals carrying voice, text, and digital data to your cell phone. These signals are always corrupted by some noises. How would you describe or model the noise and how would you evaluate the probability that the signal is incorrectly received? \n",
    "<img src=\"images/5.1.1 Motivation2.png\">\n",
    "\n",
    "In both examples above, we can model the underlying phenomena in terms of continous random variables."
   ]
  },
  {
   "cell_type": "markdown",
   "metadata": {},
   "source": [
    "### 5.1.2 Overview\n",
    "\n",
    "**Why continuous?**\n",
    "\n",
    "- physical quantities are often continuous\n",
    "- the power of calculus\n",
    "- convenient approximations\n",
    "\n",
    "**Same threads as in the discrete case:**\n",
    "\n",
    "- definitions, notation\n",
    "- properties of expectation and variance\n",
    "- conditioning and independence\n",
    "- total probability/expectation theorem\n",
    "\n",
    "**Why continuous?**\n",
    "\n",
    "- physical quantities are often continuous\n",
    "- the power of calculus\n",
    "- convenient approximations\n",
    "\n",
    "**Same threads as in the discrete case:**\n",
    "\n",
    "- definitions, notation\n",
    "- properties of expectation and variance\n",
    "- conditioning and independence\n",
    "- total probability/expectation theorem\n",
    "\n",
    "**Additional elements:**\n",
    "\n",
    "- some concepts are more subtle\n",
    "- interesting versions of Bayes’ rule"
   ]
  },
  {
   "cell_type": "markdown",
   "metadata": {},
   "source": [
    "## 5.2 Lecture 8 Continuous random variables and probability density functions\n",
    "### 5.2.1 Overview and Slides\n",
    "\n",
    "In this lecture, we focus on a single continuous random variable, described in terms of a probability density function. We discuss the expectation, variance, and a new concept – the cumulative distribution function. We illustrate the concepts through specific examples of common random variables (uniform, exponential) and finally introduce the very important normal distribution.\n",
    "\n",
    "<img src=\"images/5.2.1 Overview and Slides.png\">"
   ]
  },
  {
   "cell_type": "markdown",
   "metadata": {},
   "source": [
    "### 5.2.2 PDFs\n",
    "\n",
    "<img src=\"images/5.2.2 PDFs1.png\">\n",
    "\n",
    "<img src=\"images/5.2.2 PDFs2.png\">"
   ]
  },
  {
   "cell_type": "code",
   "execution_count": null,
   "metadata": {},
   "outputs": [],
   "source": []
  }
 ],
 "metadata": {
  "kernelspec": {
   "display_name": "Python 3",
   "language": "python",
   "name": "python3"
  },
  "language_info": {
   "codemirror_mode": {
    "name": "ipython",
    "version": 3
   },
   "file_extension": ".py",
   "mimetype": "text/x-python",
   "name": "python",
   "nbconvert_exporter": "python",
   "pygments_lexer": "ipython3",
   "version": "3.7.3"
  }
 },
 "nbformat": 4,
 "nbformat_minor": 2
}
