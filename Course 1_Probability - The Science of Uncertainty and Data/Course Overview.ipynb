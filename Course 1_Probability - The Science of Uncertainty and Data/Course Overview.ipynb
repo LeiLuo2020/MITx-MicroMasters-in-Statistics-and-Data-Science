{
 "cells": [
  {
   "cell_type": "markdown",
   "metadata": {},
   "source": [
    "## About this course\n",
    "\n",
    "The course covers all the basic probability concepts, including:\n",
    "\n",
    "- multiple discrete or continuous random variables, expectations, and conditional distributions\n",
    "- laws of large numbers\n",
    "- the main tools of Bayesian inference methods\n",
    "- an introduction to random processes (Poisson processes and Markov chains)"
   ]
  },
  {
   "cell_type": "markdown",
   "metadata": {},
   "source": [
    "## What you'll learn\n",
    "\n",
    "- The basic structure and elements of probabilistic models\n",
    "- Random variables, their distributions, means, and variances\n",
    "- Probabilistic calculations\n",
    "- Inference methods\n",
    "- Laws of large numbers and their applications\n",
    "- Random processes"
   ]
  },
  {
   "cell_type": "markdown",
   "metadata": {},
   "source": [
    "## Relation to existing MIT Course\n",
    "\n",
    "- The material covered, and the resources (videos, etc.) in this course are largely the same to 6.041x, but homework and exams contain revised and new problems. \n",
    "- [6.012](https://ocw.mit.edu/resources/res-6-012-introduction-to-probability-spring-2018/) Introduction to Probability (Undergraduate Level) is a good companion to [6.041SC](https://ocw.mit.edu/courses/electrical-engineering-and-computer-science/6-041sc-probabilistic-systems-analysis-and-applied-probability-fall-2013/) Probabilistic Systems Analysis and Applied Probability (Undergraduate Level)\n",
    "- [6.041](https://ocw.mit.edu/courses/electrical-engineering-and-computer-science/6-041-probabilistic-systems-analysis-and-applied-probability-fall-2010/) Probabilistic Systems Analysis and Applied Probability (Undergraduate/Graduate Level)\n",
    "- This is a graduate level version of 6.041x."
   ]
  },
  {
   "cell_type": "markdown",
   "metadata": {},
   "source": [
    "## Textbook\n",
    "\n",
    "No required textbook but recommend “Introduction to Probability, 2nd edition, by Bertsekas and Tsitsiklis, Athena Scientific, 2008” as a supplement reading as the course follows closely this book.\n",
    "\n",
    "More Advanced books on Probability after finishing this course:\n",
    "\n",
    "- Probability Theory and Examples Fourth Edition by RICK DURRETT \n",
    "- Applied Probability by Kenneth Lange (if you are interested in genetics)\n"
   ]
  },
  {
   "cell_type": "markdown",
   "metadata": {},
   "source": []
  }
 ],
 "metadata": {
  "kernelspec": {
   "display_name": "Python 3",
   "language": "python",
   "name": "python3"
  },
  "language_info": {
   "codemirror_mode": {
    "name": "ipython",
    "version": 3
   },
   "file_extension": ".py",
   "mimetype": "text/x-python",
   "name": "python",
   "nbconvert_exporter": "python",
   "pygments_lexer": "ipython3",
   "version": "3.7.3"
  }
 },
 "nbformat": 4,
 "nbformat_minor": 2
}
