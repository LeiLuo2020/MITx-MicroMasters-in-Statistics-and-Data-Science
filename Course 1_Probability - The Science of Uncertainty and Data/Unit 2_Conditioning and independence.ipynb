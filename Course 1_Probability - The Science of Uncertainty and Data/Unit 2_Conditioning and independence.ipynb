{
 "cells": [
  {
   "cell_type": "markdown",
   "metadata": {},
   "source": [
    "### 2.2.7 A radar example: models based on conditional probabilities and three basic tools\n",
    "\n",
    "Video Address: https://youtu.be/PPO1xs64Xgg\n",
    "\n",
    "What conditional probabilities are good for:\n",
    "- Used to build a multi-stage model of a probabilistic experiment. Example: detect an object up in the sky by a radar."
   ]
  },
  {
   "attachments": {},
   "cell_type": "markdown",
   "metadata": {},
   "source": [
    "### 2.2.8 The Multiplication Rule\n",
    "\n",
    "We will now start developing generalizations of the different calculations that we carried out in the context of the radar example.\n",
    "\n",
    "<img src=\"images/2.2.8 The multiplication rule.png\">"
   ]
  },
  {
   "cell_type": "markdown",
   "metadata": {},
   "source": [
    "### 2.2.12 Bayes' rule\n",
    "\n",
    "<img src=\"images/2.2.12 Bayes’ rule.png\">\n",
    "<img src=\"images/2.2.12 Bayes’ rule1.png\">\n",
    "\n",
    "Key notes:\n",
    "\n",
    "- Partition a sample space into three disjoint subsets or events $A_1$, $A_2$, $A_3$ which we think of as scenarios\n",
    "- The probability of each scenario is given as $P(A_i)$\n",
    "- Under each scenario, the probability of an event of interest, event B, is given as $P(B|A_i)$\n",
    "- Now given B occurred, how do we calculate the conditional probabilities of each scenario happens? \n",
    "\n"
   ]
  },
  {
   "cell_type": "markdown",
   "metadata": {},
   "source": [
    "### 2.2.13 Exercise: Bayes’ rule and the false-positive puzzle\n",
    "\n",
    "<img src=\"images/2.2.13 Exercise Bayes’ rule and the false-positive puzzle.png\">\n",
    "\n",
    "**Hints:**\n",
    "\n",
    "Let A be the event that the person has disease and B the event that the test result is positive\\\n",
    "Question 1: Calculate P(B)\\\n",
    "Question 2: Calculate P(A|B) using Bayes' rule from 2.2.12"
   ]
  },
  {
   "cell_type": "markdown",
   "metadata": {},
   "source": [
    "## 2.3 Lecture 3: Independence"
   ]
  },
  {
   "cell_type": "markdown",
   "metadata": {},
   "source": [
    "### 2.3.1 overview and slides\n",
    "\n",
    "Video URL: https://youtu.be/Gql9sS0vKM4\n",
    "\n",
    "In this lecture, we'll talk about:\n",
    "\n",
    "- Independence of two events\n",
    "- Conditional independence\n",
    "- Independence of a collection of events\n",
    "- Pairwise independence\n",
    "- Reliability\n",
    "- The King's sibling puzzle\n",
    "\n",
    "**More information is given in the textbook Section 1.5**"
   ]
  },
  {
   "cell_type": "markdown",
   "metadata": {},
   "source": [
    "### 2.3.2 A coin tossing example\n",
    "\n",
    "Video URL: https://youtu.be/v4k4ep3lSwc\n",
    "\n",
    "<img src=\"images/2.3.2 A coin tossing example.png\">"
   ]
  },
  {
   "cell_type": "markdown",
   "metadata": {},
   "source": [
    "### 2.3.3 Independence of two events\n",
    "\n",
    "Video URL: https://youtu.be/Bbn_sSLenYk\n",
    "\n",
    "<img src=\"images/2.3.3 Independence of two events.png\">\n",
    "\n",
    "**Key notes:**\\\n",
    "Being independence and being disjoint of two events are totally different concepts. \n",
    "- Two events are independent if the occurrence of one event does not change our beliefs about the other. It does not affect the probability that the other event also occurs. \n",
    "- Two events are disjoint when you know event A occured then you are sure event B won't occur."
   ]
  },
  {
   "cell_type": "markdown",
   "metadata": {},
   "source": [
    "### 2.3.4 Exercise: Independence of two events - I\n",
    "\n",
    "<img src=\"images/2.3.4 Exercise Independence of two events - I.png\">\n",
    "\n",
    "**Hints:**\n",
    "\n",
    "- Use the independence definition P($A\\cap B$)=P(A)*P(B)"
   ]
  },
  {
   "cell_type": "markdown",
   "metadata": {},
   "source": [
    "### 2.3.5 Exercise: Independence of two events - II\n",
    "\n",
    "<img src=\"images/2.3.5 Exercise Independence of two events - II.png\">\n",
    "\n",
    "**Hints:**\n",
    "\n",
    "- Use the independence definition P($A\\cap B$)=P(A)*P(B)"
   ]
  },
  {
   "cell_type": "markdown",
   "metadata": {},
   "source": [
    "### 2.3.6 Exercise: Independence of two events - III\n",
    "\n",
    "<img src=\"images/2.3.6 Exercise Independence of two events - III.png\">\n",
    "\n",
    "**Hints:**\n",
    "\n",
    "- Use the independence definition P($A\\cap B$)=P(A)*P(B)"
   ]
  },
  {
   "cell_type": "markdown",
   "metadata": {},
   "source": [
    "### 2.3.7 Independence of event complements\n",
    "Video URL: https://youtu.be/VvrecTHAWRU\n",
    "\n",
    "<img src=\"images/2.3.7 Independence of event complements.png\">"
   ]
  },
  {
   "cell_type": "markdown",
   "metadata": {},
   "source": [
    "### 2.3.8 Exercise: Independence of event complements\n",
    "\n",
    "<img src=\"images/2.3.8 Exercise Independence of event complements.png\">"
   ]
  },
  {
   "cell_type": "markdown",
   "metadata": {},
   "source": [
    "### 2.3.9 Conditional independence\n",
    "Video URL: https://youtu.be/yXV15izY1dQ\n",
    "\n",
    "<img src=\"images/2.3.9 Conditional independence.png\">\n"
   ]
  },
  {
   "cell_type": "markdown",
   "metadata": {},
   "source": [
    "### 2.3.10 Exercise: Conditional independence\n",
    "\n",
    "<img src=\"images/2.3.10 Exercise Conditional independence.png\">\n",
    "\n",
    "**Hints**\n",
    "\n",
    "Q1: Refer to 2.3.7"
   ]
  },
  {
   "cell_type": "markdown",
   "metadata": {},
   "source": [
    "### 2.3.11 Independence vs conditional independence\n",
    "Video URL: https://youtu.be/Ac8KiNC0zM0\n",
    "\n"
   ]
  }
 ],
 "metadata": {
  "kernelspec": {
   "display_name": "Python 3",
   "language": "python",
   "name": "python3"
  },
  "language_info": {
   "codemirror_mode": {
    "name": "ipython",
    "version": 3
   },
   "file_extension": ".py",
   "mimetype": "text/x-python",
   "name": "python",
   "nbconvert_exporter": "python",
   "pygments_lexer": "ipython3",
   "version": "3.7.3"
  }
 },
 "nbformat": 4,
 "nbformat_minor": 2
}
