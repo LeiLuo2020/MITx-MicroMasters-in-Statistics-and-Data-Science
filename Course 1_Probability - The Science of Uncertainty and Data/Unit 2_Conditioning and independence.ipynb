{
 "cells": [
  {
   "cell_type": "markdown",
   "metadata": {},
   "source": [
    "### 2.2.7 A radar example: models based on conditional probabilities and three basic tools\n",
    "\n",
    "Video Address: https://youtu.be/PPO1xs64Xgg\n",
    "\n",
    "What conditional probabilities are good for:\n",
    "- Used to build a multi-stage model of a probabilistic experiment. Example: detect an object up in the sky by a radar."
   ]
  },
  {
   "cell_type": "markdown",
   "metadata": {},
   "source": [
    "### 2.2.8 The Multiplication Rule\n",
    "\n",
    "We will now start developing generalizations of the different calculations that we carried out in the context of the radar example.\n",
    "\n",
    "<img src=\"images/2.2.8 The multiplication rule.png\">"
   ]
  },
  {
   "cell_type": "markdown",
   "metadata": {},
   "source": [
    "### 2.2.12 Bayes' rule\n",
    "\n",
    "<img src=\"images/2.2.12 Bayes’ rule.png\">\n",
    "<img src=\"images/2.2.12 Bayes’ rule1.png\">\n",
    "\n",
    "Key notes:\n",
    "\n",
    "- Partition a sample space into three disjoint subsets or events $A_1$, $A_2$, $A_3$ which we think of as scenarios\n",
    "- The probability of each scenario is given as $P(A_i)$\n",
    "- Under each scenario, the probability of an event of interest, event B, is given as $P(B|A_i)$\n",
    "- Now given B occurred, how do we calculate the conditional probabilities of each scenario happens? \n",
    "\n"
   ]
  },
  {
   "cell_type": "markdown",
   "metadata": {},
   "source": [
    "### 2.2.13 Exercise: Bayes’ rule and the false-positive puzzle\n",
    "\n",
    "<img src=\"images/2.2.13 Exercise Bayes’ rule and the false-positive puzzle.png\">\n",
    "\n",
    "**Hints:**\n",
    "\n",
    "Let A be the event that the person has disease and B the event that the test result is positive\\\n",
    "Question 1: Calculate P(B)\\\n",
    "Question 2: Calculate P(A|B) using Bayes' rule from 2.2.12"
   ]
  },
  {
   "cell_type": "markdown",
   "metadata": {},
   "source": [
    "## 2.3 Lecture 3: Independence"
   ]
  },
  {
   "cell_type": "markdown",
   "metadata": {},
   "source": [
    "### 2.3.1 overview and slides\n",
    "\n",
    "Video URL: https://youtu.be/Gql9sS0vKM4\n",
    "\n",
    "In this lecture, we'll talk about:\n",
    "\n",
    "- Independence of two events\n",
    "- Conditional independence\n",
    "- Independence of a collection of events\n",
    "- Pairwise independence\n",
    "- Reliability\n",
    "- The King's sibling puzzle\n",
    "\n",
    "**More information is given in the textbook Section 1.5**"
   ]
  },
  {
   "cell_type": "markdown",
   "metadata": {},
   "source": [
    "### 2.3.2 A coin tossing example\n",
    "\n",
    "Video URL: https://youtu.be/v4k4ep3lSwc\n",
    "\n",
    "<img src=\"images/2.3.2 A coin tossing example.png\">"
   ]
  },
  {
   "cell_type": "markdown",
   "metadata": {},
   "source": [
    "### 2.3.3 Independence of two events\n",
    "\n",
    "Video URL: https://youtu.be/Bbn_sSLenYk\n",
    "\n",
    "<img src=\"images/2.3.3 Independence of two events.png\">\n",
    "\n",
    "**Key notes:**\\\n",
    "Being independence and being disjoint of two events are totally different concepts. \n",
    "- Two events are independent if the occurrence of one event does not change our beliefs about the other. It does not affect the probability that the other event also occurs. \n",
    "- Two events are disjoint when you know event A occured then you are sure event B won't occur."
   ]
  },
  {
   "cell_type": "markdown",
   "metadata": {},
   "source": [
    "### 2.3.4 Exercise: Independence of two events - I\n",
    "\n",
    "<img src=\"images/2.3.4 Exercise Independence of two events - I.png\">\n",
    "\n",
    "**Hints:**\n",
    "\n",
    "- Use the independence definition P($A\\cap B$)=P(A)*P(B)"
   ]
  },
  {
   "cell_type": "markdown",
   "metadata": {},
   "source": [
    "### 2.3.5 Exercise: Independence of two events - II\n",
    "\n",
    "<img src=\"images/2.3.5 Exercise Independence of two events - II.png\">\n",
    "\n",
    "**Hints:**\n",
    "\n",
    "- Use the independence definition P($A\\cap B$)=P(A)*P(B)"
   ]
  },
  {
   "cell_type": "markdown",
   "metadata": {},
   "source": [
    "### 2.3.6 Exercise: Independence of two events - III\n",
    "\n",
    "<img src=\"images/2.3.6 Exercise Independence of two events - III.png\">\n",
    "\n",
    "**Hints:**\n",
    "\n",
    "- Use the independence definition P($A\\cap B$)=P(A)*P(B)"
   ]
  },
  {
   "cell_type": "markdown",
   "metadata": {},
   "source": [
    "### 2.3.7 Independence of event complements\n",
    "Video URL: https://youtu.be/VvrecTHAWRU\n",
    "\n",
    "<img src=\"images/2.3.7 Independence of event complements.png\">"
   ]
  },
  {
   "cell_type": "markdown",
   "metadata": {},
   "source": [
    "### 2.3.8 Exercise: Independence of event complements\n",
    "\n",
    "<img src=\"images/2.3.8 Exercise Independence of event complements.png\">"
   ]
  },
  {
   "cell_type": "markdown",
   "metadata": {},
   "source": [
    "### 2.3.9 Conditional independence\n",
    "Video URL: https://youtu.be/yXV15izY1dQ\n",
    "\n",
    "<img src=\"images/2.3.9 Conditional independence.png\">\n"
   ]
  },
  {
   "cell_type": "markdown",
   "metadata": {},
   "source": [
    "### 2.3.10 Exercise: Conditional independence\n",
    "\n",
    "<img src=\"images/2.3.10 Exercise Conditional independence.png\">\n",
    "\n",
    "**Hints**\n",
    "\n",
    "Q1: Refer to 2.3.7"
   ]
  },
  {
   "cell_type": "markdown",
   "metadata": {},
   "source": [
    "### 2.3.11 Independence vs conditional independence\n",
    "Video URL: https://youtu.be/Ac8KiNC0zM0\n",
    "\n",
    "We've seen from 2.3.9 example that two events are independent but become dependent in a conditional model. So independence and conditional independence are not the same. Here is another similar example:\n",
    "\n",
    "<img src=\"images/2.3.11 Independence vs conditional independence.png\">"
   ]
  },
  {
   "cell_type": "markdown",
   "metadata": {},
   "source": [
    "### 2.3.12 Independence of a collection of events\n",
    "\n",
    "Video URL: https://youtu.be/i9dtA6VZ8u0\n",
    "\n",
    "<img src=\"images/2.3.12 Independence of a collection of events.png\">\n",
    "\n",
    "**Key notes:**\n",
    "\n",
    "- A family of events are independent if knowledge about some of the events doesn't change my beliefs, my probability model, for the remaining events."
   ]
  },
  {
   "cell_type": "markdown",
   "metadata": {},
   "source": [
    "### 2.3.13 Exercise: Independence of multiple events\n",
    "\n",
    "<img src=\"images/2.3.13 Exercise Independence of multiple events.png\">"
   ]
  },
  {
   "cell_type": "markdown",
   "metadata": {},
   "source": [
    "### 2.3.14 Independence vs pairwise independence\n",
    "\n",
    "Video URL: https://youtu.be/EsEogLmLcuY\n",
    "\n",
    "<img src=\"images/2.3.14 Independence vs pairwise independence.png\">"
   ]
  },
  {
   "cell_type": "markdown",
   "metadata": {},
   "source": [
    "### 2.3.15 Reliability\n",
    "Video URL: https://youtu.be/tQG26uPoCcA\n",
    "\n",
    "<img src=\"images/2.3.15 Reliability.png\">"
   ]
  },
  {
   "cell_type": "markdown",
   "metadata": {},
   "source": [
    "### 2.3.16 Exercise: Reliability\n",
    "\n",
    "<img src=\"images/2.3.16 Exercise Reliability1.png\">\n",
    "<img src=\"images/2.3.16 Exercise Reliability2.png\">"
   ]
  },
  {
   "cell_type": "markdown",
   "metadata": {},
   "source": [
    "### 2.3.17 The King’s sibling\n",
    "Video URL: https://youtu.be/3mFTpJHHzWA\n",
    "\n",
    "<img src=\"images/2.3.17 The King’s sibling.png\">"
   ]
  },
  {
   "cell_type": "markdown",
   "metadata": {},
   "source": [
    "## 2.4 Solved problems\n",
    "### 2.4.1 Conditional probability example\n",
    "\n",
    "We roll two fair 6-sided dice. Each one of the 36 possible outcomes is assumed to be equally likely.\n",
    "\n",
    "(a) Find the probability that doubles are rolled (i.e., both dice have the same number).\n",
    "\n",
    "(b) Given that the roll results in a sum of 4 or less, find the conditional probability that doubles are rolled.\n",
    "\n",
    "(c) Find the probability that at least one die roll is a 6.\n",
    "\n",
    "(d) Given that the two dice land on different numbers, find the conditional probability that at least one die roll is a 6.\n",
    "\n",
    "Video URL: https://youtu.be/0WVRMlRn57U\n",
    "\n",
    "**Hints:**\n",
    "(a) 6/36\n",
    "(b) 2/6\n",
    "(c) 11/36\n",
    "(d) 1/3"
   ]
  },
  {
   "cell_type": "markdown",
   "metadata": {},
   "source": [
    "### 2.4.2 A chess tournament problem\n",
    "\n",
    "This year's Belmont chess champion is to be selected by the following procedure. Bo and Ci, the leading challengers, first play a two-game match. If one of them wins both games, he gets to play a two-game second round with Al, the current champion. Al retains his championship unless a second round is required and the challenger beats Al in both games. If Al wins the initial game of the second round, no more games are played.\n",
    "\n",
    "Furthermore, we know the following:\n",
    "- The probability that Bo will beat Ci in any particular game is 0.6.\n",
    "- The probability that Al will beat Bo in any particular game is 0.5.\n",
    "- The probability that Al will beat Ci in any particular game is 0.7.\n",
    "\n",
    "Assume no tie games are possible and all games are independent.\n",
    "\n",
    "1. Determine the a priori probabilities that\n",
    "(a) the second round will be required.\n",
    "(b) Bo will win the first round.\n",
    "(c) Al will retain his championship this year.\n",
    "\n",
    "2. Given that the second round is required, determine the conditional probabilities that\n",
    "(a) Bo is the surviving challenger.\n",
    "(b) Al retains his championship.\n",
    "\n",
    "3. Given that the second round was required and that it comprised only one game, what is the conditional probability that it was Bo who won the first round?\n",
    "\n",
    "Video URL: https://youtu.be/HeWFwYt8i-o"
   ]
  },
  {
   "cell_type": "markdown",
   "metadata": {},
   "source": [
    "### 2.4.3 A coin tossing puzzle\n",
    "\n",
    "A coin is tossed twice. Alice claims that the event of getting two Heads is at least as likely if we know that the first toss is Heads than if we know that at least one of the tosses is Heads. Is she right? Does it make a difference if the coin is fair or unfair? How can we generalize Alice's reasoning?\n",
    "\n",
    "Video URL: https://youtu.be/M7dy4gId_wA"
   ]
  },
  {
   "cell_type": "markdown",
   "metadata": {},
   "source": [
    "### 2.4.4 The Monty Hall problem\n",
    "\n",
    "This is a much discussed puzzle, based on an old American game show. You are told that a prize is equally likely to be found behind any one of three closed doors in front of you. You point to one of the doors. A friend opens for you one of the remaining two doors, after making sure that the prize is not behind it. At this point, you can stick to your initial choice, or switch to the other unopened door. You win the prize if it lies behind your final choice of a door. Consider the following strategies:\n",
    "- Stick to your initial choice.\n",
    "- Switch to the other unopened door.\n",
    "- You first point to door 1. If door 2 is opened, you do not switch. If door 3 is opened, you switch.\n",
    "Which is the best strategy?\n",
    "\n",
    "Video URL: https://youtu.be/oQJBtVP95c8"
   ]
  },
  {
   "cell_type": "markdown",
   "metadata": {},
   "source": [
    "### 2.4.5 A random walker\n",
    "\n",
    "Imagine a drunk tightrope walker, who manages to keep his balance, but takes a step forward with probability p and takes a step back with probability (1−p).\n",
    "(a) What is the probability that after two steps, the tightrope walker will be at the same place on the rope as where he started?\n",
    "(b) What is the probability that after three steps, the tightrope walker will be one step forward from where he started?\n",
    "(c) Given that after three steps he has managed to move ahead one step, what is the probability that the first step he took was a step forward?\n",
    "\n",
    "Video URL: https://youtu.be/xvPdi6gjDMA"
   ]
  },
  {
   "cell_type": "markdown",
   "metadata": {},
   "source": [
    "### 2.4.6 Communication over a nosy channel\n",
    "\n",
    "<img src=\"images/2.4.6 Communication over a nosy channel.png\">\n",
    "\n",
    "Video URL: https://youtu.be/VRhrAUT602I"
   ]
  },
  {
   "cell_type": "markdown",
   "metadata": {},
   "source": [
    "### 2.4.7 Network reliability\n",
    "\n",
    "<img src=\"images/2.4.7 Network reliability.png\">\n",
    "\n",
    "Video URL: https://youtu.be/tlHa2sm1uDg"
   ]
  },
  {
   "cell_type": "markdown",
   "metadata": {},
   "source": [
    "### 2.5.3 Problem 3: Oscar's lost dog in the forest\n",
    "\n",
    "<img src=\"images/2.5.3 Oscar's lost dog in the forest.png\">"
   ]
  },
  {
   "cell_type": "code",
   "execution_count": null,
   "metadata": {},
   "outputs": [],
   "source": []
  }
 ],
 "metadata": {
  "kernelspec": {
   "display_name": "Python 3",
   "language": "python",
   "name": "python3"
  },
  "language_info": {
   "codemirror_mode": {
    "name": "ipython",
    "version": 3
   },
   "file_extension": ".py",
   "mimetype": "text/x-python",
   "name": "python",
   "nbconvert_exporter": "python",
   "pygments_lexer": "ipython3",
   "version": "3.7.3"
  }
 },
 "nbformat": 4,
 "nbformat_minor": 2
}
