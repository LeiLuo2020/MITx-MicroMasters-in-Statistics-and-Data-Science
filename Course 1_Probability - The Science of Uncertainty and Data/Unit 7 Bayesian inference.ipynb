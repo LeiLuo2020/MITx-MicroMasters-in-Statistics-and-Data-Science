{
 "cells": [
  {
   "cell_type": "markdown",
   "metadata": {},
   "source": [
    "## 7.1 Unit Overview\n",
    "### 7.1.1 Motivation\n",
    "\n",
    "Video URL: https://youtu.be/8J1KZf1XJBQ"
   ]
  },
  {
   "cell_type": "markdown",
   "metadata": {},
   "source": [
    "### 7.1.2 Unit 7 overview\n",
    "\n",
    "In this unit, we focus on Bayesian inference, including both hypothesis testing and estimation problems.\n",
    "\n",
    "a) We apply the Bayes rule to find the posterior distribution of an unknown random variable given one or multiple observations of related random variables.\n",
    "\n",
    "b) We discuss the most common methods for coming up with a point estimate of the unknown random variable (Maximum a Posteriori probability estimate, Least Mean Squares estimate, and Linear Least Mean Squares estimate).\n",
    "\n",
    "c) We consider the question of performance analysis, namely, the calculation of the probability of error in hypothesis testing problems or the calculation of the mean squared error in estimation problems.\n",
    "\n",
    "d) To illustrate the methodology, we pay special attention to a few canonical problems such as linear normal models and the problem of estimating the unknown bias of a coin.\n",
    "\n",
    "Video URL: https://youtu.be/SNZTraCwZaU"
   ]
  },
  {
   "cell_type": "markdown",
   "metadata": {},
   "source": [
    "## 7.2 Introduction to Bayesian inference\n",
    "### 7.2.1 Lecture 14 Overview and slides\n",
    "\n",
    "Video URL: https://youtu.be/lIqqhaMVU3s\n",
    "\n",
    "- Discuss numerous domains in which inference is useful;\n",
    "- Develop the conceptual framework of Bayesian inference and review various forms of the Bayes rule\n",
    "- Discuss possible ways of arriving at a point estimate based on the posterior distribution\n",
    "- Present the relevant performance metrics, namely, the probability of error for hypothesis testing problems and the mean squared error for estimation problems.\n",
    "\n",
    "More information is given in Sections 8.1 and 8.2 of the text.\n",
    "\n",
    "Source attributions:\n",
    "\n",
    "- Electoral map image from http://web.stanford.edu/group/predict/cgi-bin/wordpress/?page_id=1077 copyright Stanford University, 2012.\n",
    "\n",
    "- S&P 500 chart from http://finance.yahoo.com/ (fair use)\n",
    "\n",
    "- Genomics graphic from unknown source (fair use)\n",
    "\n",
    "- Systems biology graphic from http://commons.wikimedia.org/wiki/File:Signal_transduction_v1.png (CC license)\n",
    "\n",
    "- Electoral vote distribution distribution graphic from http://web.stanford.edu/group/predict/cgi-bin/wordpress/?page_id=1077 copyright Stanford University, 2012 (fair use)\n",
    "\n",
    "<img src=\"images/7.2.1 Lecture 14 Overview and slides.png\">"
   ]
  },
  {
   "cell_type": "markdown",
   "metadata": {},
   "source": [
    "### 7.2.2 Overview of some application domains\n",
    "\n",
    "Video URL: https://youtu.be/hIPL_UOpNKo\n",
    "\n",
    "<img src=\"images/7.2.2 Overview of some application domains1.png\">\n",
    "<img src=\"images/7.2.2 Overview of some application domains2.png\">\n",
    "<img src=\"images/7.2.2 Overview of some application domains3.png\">\n",
    "<img src=\"images/7.2.2 Overview of some application domains4.png\">\n",
    "<img src=\"images/7.2.2 Overview of some application domains5.png\">\n",
    "<img src=\"images/7.2.2 Overview of some application domains6.png\">\n",
    "<img src=\"images/7.2.2 Overview of some application domains7.png\">\n",
    "<img src=\"images/7.2.2 Overview of some application domains8.png\">"
   ]
  },
  {
   "cell_type": "markdown",
   "metadata": {},
   "source": [
    "#### 7.2.3 Types of inference problems\n",
    "\n",
    "Video URL: https://youtu.be/XwGxj9NnBB0\n",
    "\n",
    "<img src=\"images/7.2.3 Types of inference problems1.png\">\n",
    "<img src=\"images/7.2.3 Types of inference problems2.png\">"
   ]
  },
  {
   "cell_type": "markdown",
   "metadata": {},
   "source": [
    "### 7.2.4 Exercise: Hypothesis testing versus estimation\n",
    "\n",
    "<img src=\"images/7.2.4 Exercise Hypothesis testing versus estimation.png\">\n",
    "\n",
    "**Hints:(Thanks to Christianbdasmith)**\n",
    "\n",
    "When dealing with Estimation, using the word \"approximately\" makes sense.Could it be approximately this time? Could it be approximately this person? Could it be approximately a male/female? Could it be approximately this weight? If the answer is yes...then it's an estimation."
   ]
  },
  {
   "cell_type": "markdown",
   "metadata": {},
   "source": [
    "### 7.2.5 The Bayesian inference framework\n",
    "\n",
    "Video URL: https://youtu.be/1sTuCID988Y\n",
    "\n",
    "In other inference framework, theta is treated as an unknown constant.\n",
    "\n",
    "<img src=\"images/7.2.5 The Bayesian inference framework1.png\">\n",
    "<img src=\"images/7.2.5 The Bayesian inference framework2.png\">\n",
    "<img src=\"images/7.2.5 The Bayesian inference framework3.png\">\n",
    "\n",
    "**Extension**\n",
    "- Prior probability\n",
    "\n",
    "https://en.wikipedia.org/wiki/Prior_probability#Uninformative_priors\n",
    "\n",
    "- What does dot mean?\n",
    "\n",
    "<img src=\"images/7.2.5 The Bayesian inference framework4.png\">"
   ]
  },
  {
   "cell_type": "markdown",
   "metadata": {},
   "source": [
    "### 7.2.6 Exercise: Estimates and estimators\n",
    "\n",
    "<img src=\"images/7.2.6 Exercise Estimates and estimators.png\">\n",
    "\n",
    "**Q&A**\n",
    "<img src=\"images/7.2.6 Exercise Estimates and estimators1.png\">\n",
    "<img src=\"images/7.2.6 Exercise Estimates and estimators2.png\">"
   ]
  },
  {
   "cell_type": "markdown",
   "metadata": {},
   "source": [
    "### 7.2.7 Discrete parameter, discrete observation\n",
    "\n",
    "Video URL: https://youtu.be/D6C9_rUxgOY\n",
    "\n",
    "<img src=\"images/7.2.7 Discrete parameter, discrete observation.png\">"
   ]
  },
  {
   "cell_type": "markdown",
   "metadata": {},
   "source": [
    "### 7.2.8 Exercise: Discrete unknowns\n",
    "\n",
    "<img src=\"images/7.2.8 Exercise Discrete unknowns1.png\">\n",
    "<img src=\"images/7.2.8 Exercise Discrete unknowns2.png\">\n",
    "<img src=\"images/7.2.8 Exercise Discrete unknowns3.png\">\n",
    "<img src=\"images/7.2.8 Exercise Discrete unknowns4.png\">\n",
    "<img src=\"images/7.2.8 Exercise Discrete unknowns5.png\">"
   ]
  },
  {
   "cell_type": "markdown",
   "metadata": {},
   "source": [
    "### 7.2.9 Discrete parameter, continuous observation\n",
    "\n",
    "Video URL: https://youtu.be/5fN_fkQyvnw\n",
    "\n",
    "<img src=\"images/7.2.9 Discrete parameter, continuous observation.png\">"
   ]
  },
  {
   "cell_type": "markdown",
   "metadata": {},
   "source": [
    "### 7.2.10 Exercise: Discrete unknown and continuous observation\n",
    "\n",
    "<img src=\"images/7.2.10 Exercise Discrete unknown and continuous observation.png\">"
   ]
  },
  {
   "cell_type": "markdown",
   "metadata": {},
   "source": [
    "### 7.2.11 Continuous parameter, continuous observation\n",
    "\n",
    "Video URL: https://youtu.be/g1lX6YEaqb8\n",
    "\n",
    "<img src=\"images/7.2.11 Continuous parameter, continuous observation.png\">"
   ]
  },
  {
   "cell_type": "markdown",
   "metadata": {},
   "source": [
    "### 7.2.12 Exercise: Continuous unknown and observation\n",
    "\n",
    "<img src=\"images/7.2.12 Exercise Continuous unknown and observation.png\">"
   ]
  },
  {
   "cell_type": "markdown",
   "metadata": {},
   "source": [
    "### 7.2.13 Inferring the unknown bias of a coin and the Beta distribution\n",
    "\n",
    "Video URL: https://youtu.be/RcAwbn4WImk\n",
    "\n",
    "Illustration of the update of the posterior distribution. The file that is linked here(see beta plot pdf) illustrates the updating of the Beta posterior distribution of the bias of a coin, as more and more coin flips are observed, starting with a uniform prior (in red, in the figures). Suppose that the true value of the bias is  0.3 . We generate independent samples of the coin flips, and each figure shows the resulting posterior (in blue). For example, the third figure shows the posterior if we observe one Heads and one Tails. In order to illustrate the evaluation of the posterior, we also show (in black) all of the previous posteriors. In the last figure, after 64 flips that resulted in 19 Heads, the posterior shown (in blue) is centered in the vicinity of the true value. On the other hand, the posterior has a substantial width, indicating that there is still significant uncertainty about the true value of the coin bias.\n",
    "\n",
    "Animation of the update of the posterior distribution. The page http://bl.ocks.org/joost2076/raw/7b0bd5c566b3a349854e/ contains an animation of the posterior's updates, with a flexible choice of the underlying parameter  p , as created by a past student in this class.\n"
   ]
  },
  {
   "cell_type": "markdown",
   "metadata": {},
   "source": [
    "### 7.2.14 Exercise: The posterior of a coin's bias\n",
    "\n",
    "<img src=\"images/7.2.14 Exercise The posterior of a coin's bias.png\">"
   ]
  },
  {
   "cell_type": "markdown",
   "metadata": {},
   "source": [
    "### 7.2.15 Inferring the unknown bias of a coin - point estimates\n",
    "\n",
    "Video URL: https://youtu.be/XS33yIOtEew\n",
    "\n"
   ]
  },
  {
   "cell_type": "markdown",
   "metadata": {},
   "source": [
    "### 7.2.16 Exercise: Moments of the Beta distribution\n",
    "\n",
    "<img src=\"images/7.2.16 Exercise Moments of the Beta distribution.png\">"
   ]
  },
  {
   "cell_type": "markdown",
   "metadata": {},
   "source": [
    "### 7.2.17 Summary\n",
    "\n",
    "Video URL: https://youtu.be/Xj_nEa-JmDQ\n"
   ]
  },
  {
   "cell_type": "markdown",
   "metadata": {},
   "source": [
    "## 7.3 Lecture 15 Linear models with normal noise"
   ]
  },
  {
   "cell_type": "markdown",
   "metadata": {},
   "source": [
    "### 7.3.1 overview and slides\n",
    "\n",
    "In this lecture we focus on an important special case of inference problems in which the random variables of interest are normal and are related through linear relations. We show that the posterior distribution is also normal and examine how we can calculate the posterior mean and variance. We illustrate the methodology through a progression of increasingly complex examples, including the problem of estimating a trajectory on the basis of multiple noisy measurements.\n",
    "\n",
    "Video URL: https://youtu.be/SOFQ8Wuo2_c\n",
    "\n",
    "Some of the material in this lecture is covered in Example 8.3 on page 415 and page 421, and on pages 480-482 of the textbook.\n",
    "\n",
    "For a written summary of the trajectory estimation problem, see this document.\n",
    "\n",
    "<img src=\"images/7.3.1 overview and slides.png\">"
   ]
  },
  {
   "cell_type": "markdown",
   "metadata": {},
   "source": [
    "### 7.3.2 Recognizing normal PDFs\n",
    "\n",
    "Video URL: https://youtu.be/q0NpbrVplv0\n",
    "\n",
    "<img src=\"images/7.3.2 Recognizing normal PDFs.png\">"
   ]
  },
  {
   "cell_type": "markdown",
   "metadata": {},
   "source": [
    "### 7.3.3 Exercise: Recognizing normal PDFs\n",
    "\n",
    "<img src=\"images/7.3.3 Exercise Recognizing normal PDFs.png\">"
   ]
  },
  {
   "attachments": {},
   "cell_type": "markdown",
   "metadata": {},
   "source": [
    "### 7.3.4 Normal unknown and additive noise\n",
    "\n",
    "Video URL: https://youtu.be/7vfJ0PnB-v4\n",
    "\n",
    "<img src=\"images/7.3.4 Normal unknown and additive noise1.png\">\n",
    "<img src=\"images/7.3.4 Normal unknown and additive noise2.png\">"
   ]
  },
  {
   "cell_type": "markdown",
   "metadata": {},
   "source": [
    "### 7.3.5 Exercise: Normal unknown and additive noise\n",
    "\n",
    "<img src=\"images/7.3.5 Exercise Normal unknown and additive noise.png\">"
   ]
  },
  {
   "cell_type": "markdown",
   "metadata": {},
   "source": [
    "### 7.3.6 The case of multiple observations\n",
    "\n",
    "Video URL: https://youtu.be/XrhDYTC2YSU\n",
    "\n",
    "<img src=\"images/7.3.6 The case of multiple observations1.png\">\n",
    "<img src=\"images/7.3.6 The case of multiple observations2.png\">\n",
    "<img src=\"images/7.3.6 The case of multiple observations3.png\">"
   ]
  },
  {
   "cell_type": "markdown",
   "metadata": {},
   "source": [
    "### 7.3.7 Exercise: Multiple observations\n",
    "\n",
    "<img src=\"images/7.3.7 Exercise Multiple observations.png\">"
   ]
  },
  {
   "cell_type": "markdown",
   "metadata": {},
   "source": [
    "### 7.3.8 Exercise: Multiple observations, more general model\n",
    "\n",
    "<img src=\"images/7.3.8 Exercise Multiple observations, more general model.png\">"
   ]
  },
  {
   "attachments": {},
   "cell_type": "markdown",
   "metadata": {},
   "source": [
    "### 7.3.9 The mean squared error\n",
    "\n",
    "Video URL: https://youtu.be/YFR_DbwW1Gk\n",
    "\n",
    "<img src=\"images/7.3.9 The mean squared error1.png\">\n",
    "<img src=\"images/7.3.9 The mean squared error2.png\">"
   ]
  },
  {
   "cell_type": "markdown",
   "metadata": {},
   "source": [
    "### 7.3.10 Exercise: The mean-squared error\n",
    "\n",
    "<img src=\"images/7.3.10 Exercise The mean-squared error.png\">"
   ]
  },
  {
   "cell_type": "markdown",
   "metadata": {},
   "source": [
    "### 7.3.11 11. Exercise: The effect of a stronger signal\n",
    "\n",
    "<img src=\"images/7.3.11 11. Exercise The effect of a stronger signal.png\">"
   ]
  },
  {
   "attachments": {},
   "cell_type": "markdown",
   "metadata": {},
   "source": [
    "### 7.3.12 Multiple parameters; trajectory estimation\n",
    "\n",
    "Video URL: https://youtu.be/swsBC7wyyj8\n",
    "\n",
    "<img src=\"images/7.3.12 Multiple parameters; trajectory estimation1.png\">\n",
    "<img src=\"images/7.3.12 Multiple parameters; trajectory estimation2.png\">\n",
    "<img src=\"images/7.3.12 Multiple parameters; trajectory estimation3.png\">"
   ]
  },
  {
   "cell_type": "markdown",
   "metadata": {},
   "source": [
    "### 7.3.13 Exercise: Multiple observations and unknowns\n",
    "\n",
    "<img src=\"images/7.3.13 Exercise Multiple observations and unknowns.png\">"
   ]
  },
  {
   "cell_type": "markdown",
   "metadata": {},
   "source": [
    "### 7.3.14 Linear normal models\n",
    "\n",
    "Video URL: https://youtu.be/lFeT9We5iqA\n",
    "\n",
    "\n",
    "Note: It was mentioned in the clip that this model goes under the name of linear regression. To be precise, this model is mathematically equivalent to a (Bayesian) linear regression model; see the discussion in the text Ch9. However, in typical presentations of linear regression, the notation and the interpretation (in terms of “explanatory\" and “dependent\" variables) looks quite different at first sight. See, e.g., https://en.wikipedia.org/wiki/Linear_regression.\n",
    "\n",
    "<img src=\"images/7.3.14 Linear normal models.png\">"
   ]
  },
  {
   "attachments": {},
   "cell_type": "markdown",
   "metadata": {},
   "source": [
    "### 7.3.15 Trajectory estimation illustration\n",
    "\n",
    "Video URL: https://youtu.be/78MUlQYyoFg\n",
    "\n",
    "<img src=\"images/7.3.15 Trajectory estimation illustration1.png\">\n",
    "<img src=\"images/7.3.15 Trajectory estimation illustration2.png\">\n",
    "<img src=\"images/7.3.15 Trajectory estimation illustration3.png\">\n",
    "<img src=\"images/7.3.15 Trajectory estimation illustration4.png\">\n",
    "<img src=\"images/7.3.15 Trajectory estimation illustration5.png\">\n",
    "<img src=\"images/7.3.15 Trajectory estimation illustration6.png\">"
   ]
  },
  {
   "cell_type": "markdown",
   "metadata": {},
   "source": [
    "### 7.4.1 Problem Set A Defective Coin\n",
    "\n",
    "<img src=\"images/7.4.1 Problem Set A Defective Coin.png\">"
   ]
  },
  {
   "cell_type": "markdown",
   "metadata": {},
   "source": [
    "### 7.4.2 Problem Set A  Hypothesis test between two coins\n",
    "\n",
    "<img src=\"images/7.4.2 Problem Set A  Hypothesis test between two coins1.png\">\n",
    "<img src=\"images/7.4.2 Problem Set A  Hypothesis test between two coins2.png\">"
   ]
  },
  {
   "cell_type": "markdown",
   "metadata": {},
   "source": [
    "### 7.4.3 Problem Set A Hypothesis test with a continuous observation\n",
    "\n",
    "<img src=\"images/7.4.3 Problem Set A Hypothesis test with a continuous observation.png\">"
   ]
  },
  {
   "cell_type": "markdown",
   "metadata": {},
   "source": [
    "### 7.4.4 Problem Set A Trajectory estimation, Part I\n",
    "\n",
    "<img src=\"images/7.4.4 Problem Set A Trajectory estimation, Part I1.png\">\n",
    "<img src=\"images/7.4.4 Problem Set A Trajectory estimation, Part I2.png\">"
   ]
  },
  {
   "cell_type": "markdown",
   "metadata": {},
   "source": [
    "### 7.4.5 Problem Set A Hypothesis test between two normals\n",
    "\n",
    "<img src=\"images/7.4.5 Problem Set A Hypothesis test between two normals.png\">"
   ]
  },
  {
   "cell_type": "code",
   "execution_count": null,
   "metadata": {},
   "outputs": [],
   "source": []
  }
 ],
 "metadata": {
  "kernelspec": {
   "display_name": "Python 3",
   "language": "python",
   "name": "python3"
  },
  "language_info": {
   "codemirror_mode": {
    "name": "ipython",
    "version": 3
   },
   "file_extension": ".py",
   "mimetype": "text/x-python",
   "name": "python",
   "nbconvert_exporter": "python",
   "pygments_lexer": "ipython3",
   "version": "3.7.3"
  }
 },
 "nbformat": 4,
 "nbformat_minor": 2
}
