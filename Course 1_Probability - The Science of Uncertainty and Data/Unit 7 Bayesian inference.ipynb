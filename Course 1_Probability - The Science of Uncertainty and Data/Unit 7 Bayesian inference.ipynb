{
 "cells": [
  {
   "cell_type": "markdown",
   "metadata": {},
   "source": [
    "## 7.1 Unit Overview\n",
    "### 7.1.1 Motivation\n",
    "\n",
    "Video URL: https://youtu.be/8J1KZf1XJBQ"
   ]
  },
  {
   "cell_type": "markdown",
   "metadata": {},
   "source": [
    "### 7.1.2 Unit 7 overview\n",
    "\n",
    "In this unit, we focus on Bayesian inference, including both hypothesis testing and estimation problems.\n",
    "\n",
    "a) We apply the Bayes rule to find the posterior distribution of an unknown random variable given one or multiple observations of related random variables.\n",
    "\n",
    "b) We discuss the most common methods for coming up with a point estimate of the unknown random variable (Maximum a Posteriori probability estimate, Least Mean Squares estimate, and Linear Least Mean Squares estimate).\n",
    "\n",
    "c) We consider the question of performance analysis, namely, the calculation of the probability of error in hypothesis testing problems or the calculation of the mean squared error in estimation problems.\n",
    "\n",
    "d) To illustrate the methodology, we pay special attention to a few canonical problems such as linear normal models and the problem of estimating the unknown bias of a coin.\n",
    "\n",
    "Video URL: https://youtu.be/SNZTraCwZaU"
   ]
  },
  {
   "cell_type": "markdown",
   "metadata": {},
   "source": [
    "## 7.2 Introduction to Bayesian inference\n",
    "### 7.2.1 Lecture 14 Overview and slides\n",
    "\n",
    "Video URL: https://youtu.be/lIqqhaMVU3s\n",
    "\n",
    "- Discuss numerous domains in which inference is useful;\n",
    "- Develop the conceptual framework of Bayesian inference and review various forms of the Bayes rule\n",
    "- Discuss possible ways of arriving at a point estimate based on the posterior distribution\n",
    "- Present the relevant performance metrics, namely, the probability of error for hypothesis testing problems and the mean squared error for estimation problems.\n",
    "\n",
    "More information is given in Sections 8.1 and 8.2 of the text.\n",
    "\n",
    "Source attributions:\n",
    "\n",
    "- Electoral map image from http://web.stanford.edu/group/predict/cgi-bin/wordpress/?page_id=1077 copyright Stanford University, 2012.\n",
    "\n",
    "- S&P 500 chart from http://finance.yahoo.com/ (fair use)\n",
    "\n",
    "- Genomics graphic from unknown source (fair use)\n",
    "\n",
    "- Systems biology graphic from http://commons.wikimedia.org/wiki/File:Signal_transduction_v1.png (CC license)\n",
    "\n",
    "- Electoral vote distribution distribution graphic from http://web.stanford.edu/group/predict/cgi-bin/wordpress/?page_id=1077 copyright Stanford University, 2012 (fair use)\n",
    "\n",
    "<img src=\"images/7.2.1 Lecture 14 Overview and slides.png\">"
   ]
  },
  {
   "cell_type": "markdown",
   "metadata": {},
   "source": [
    "### 7.2.2 Overview of some application domains\n",
    "\n",
    "Video URL: https://youtu.be/hIPL_UOpNKo\n",
    "\n",
    "<img src=\"images/7.2.2 Overview of some application domains1.png\">\n",
    "<img src=\"images/7.2.2 Overview of some application domains2.png\">\n",
    "<img src=\"images/7.2.2 Overview of some application domains3.png\">\n",
    "<img src=\"images/7.2.2 Overview of some application domains4.png\">\n",
    "<img src=\"images/7.2.2 Overview of some application domains5.png\">\n",
    "<img src=\"images/7.2.2 Overview of some application domains6.png\">\n",
    "<img src=\"images/7.2.2 Overview of some application domains7.png\">\n",
    "<img src=\"images/7.2.2 Overview of some application domains8.png\">"
   ]
  },
  {
   "cell_type": "markdown",
   "metadata": {},
   "source": [
    "#### 7.2.3 Types of inference problems\n",
    "\n",
    "Video URL: https://youtu.be/XwGxj9NnBB0\n",
    "\n",
    "<img src=\"images/7.2.3 Types of inference problems1.png\">\n",
    "<img src=\"images/7.2.3 Types of inference problems2.png\">"
   ]
  },
  {
   "cell_type": "markdown",
   "metadata": {},
   "source": [
    "### 7.2.4 Exercise: Hypothesis testing versus estimation\n",
    "\n",
    "<img src=\"images/7.2.4 Exercise Hypothesis testing versus estimation.png\">\n",
    "\n",
    "**Hints:(Thanks to Christianbdasmith)**\n",
    "\n",
    "When dealing with Estimation, using the word \"approximately\" makes sense.Could it be approximately this time? Could it be approximately this person? Could it be approximately a male/female? Could it be approximately this weight? If the answer is yes...then it's an estimation."
   ]
  },
  {
   "cell_type": "markdown",
   "metadata": {},
   "source": [
    "### 7.2.5 The Bayesian inference framework\n",
    "\n",
    "Video URL: https://youtu.be/1sTuCID988Y\n",
    "\n"
   ]
  }
 ],
 "metadata": {
  "kernelspec": {
   "display_name": "Python 3",
   "language": "python",
   "name": "python3"
  },
  "language_info": {
   "codemirror_mode": {
    "name": "ipython",
    "version": 3
   },
   "file_extension": ".py",
   "mimetype": "text/x-python",
   "name": "python",
   "nbconvert_exporter": "python",
   "pygments_lexer": "ipython3",
   "version": "3.7.3"
  }
 },
 "nbformat": 4,
 "nbformat_minor": 2
}
