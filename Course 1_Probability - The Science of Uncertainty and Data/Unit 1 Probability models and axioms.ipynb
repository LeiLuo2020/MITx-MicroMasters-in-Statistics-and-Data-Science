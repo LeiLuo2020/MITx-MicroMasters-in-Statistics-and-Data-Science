{
 "cells": [
  {
   "cell_type": "markdown",
   "metadata": {},
   "source": [
    "## 1.1 Lecture 1 Probability models and axioms"
   ]
  },
  {
   "cell_type": "markdown",
   "metadata": {},
   "source": [
    "### 1.1.1 Motivation\n",
    "\n",
    "https://youtu.be/MkUqWE-wUY0\n",
    "\n",
    "Notes:\n",
    "\n",
    "- Life is uncertain but a way to make predictions and make decisions is certain. Probalistic models (PMs) can help you.\n"
   ]
  },
  {
   "cell_type": "markdown",
   "metadata": {},
   "source": [
    "### 1.1.2 Lecture 1 Overview and slides\n",
    "\n",
    "https://youtu.be/qgwfz1FCPCc\n",
    "\n",
    "Notes:\n",
    "\n",
    "(1) Definition of PM\n",
    "- a quantitative description of a situation or an experiment with uncertain outcomes\n",
    "\n",
    "(2) Basic structure of PMs\n",
    "\n",
    "- Sample space: describe the situation\n",
    "- Probability law: assign probabilities to its outcome\n",
    "\n",
    "(3) Probability law axioms and its following properties\n",
    "\n",
    "(4) Discrete and Contineous examples\n",
    "\n",
    "(5) The role of probability and its relation to the real world\n",
    "\n",
    "\n",
    "Reference: Text Section 1.1, 1.2"
   ]
  },
  {
   "cell_type": "markdown",
   "metadata": {},
   "source": [
    "### 1.1.3 Sample space\n",
    "\n",
    "https://youtu.be/qFBSUg59bWg\n",
    "\n",
    "Notes:\n",
    "\n",
    "(1) $\\Omega$: set of possible outcomes\n",
    "\n",
    "(2) Properties of set element: \n",
    "\n",
    "- Mutually exclusive: No two or more outcomes can happen at the same time\n",
    "- Collectively exhausive: all elements exhaust all the possibilities\n",
    "- \"right\" granularity: relavant and interest to you for an experiment\n",
    "\n",
    "Those three make sample space legitimate.\n"
   ]
  },
  {
   "cell_type": "markdown",
   "metadata": {},
   "source": [
    "### 1.1.4 Exercise Sample space\n",
    "\n",
    "<img src=\"images/1.1.4 Exercise Sample space1.png\">\n",
    "Yes or No ?\n",
    "<img src=\"images/1.1.4 Exercise Sample space2.png\">\n",
    "Yes or No ?"
   ]
  },
  {
   "cell_type": "markdown",
   "metadata": {},
   "source": [
    "### 1.1.5 Sample space examples\n",
    "\n",
    "https://youtu.be/iUF5n3Ou7Sc\n",
    "\n",
    "Notes:\n",
    "\n",
    "(1) Sample space is set, and set element can be finite, infinite, discrete and conteneous.\n",
    "\n",
    "(2) Describe an experiment with several stages by a tree. E.g. roll twice of a tetrahedral die\n",
    "\n",
    "(3) Infinite and contineious example: throw a dart onto one unit square."
   ]
  },
  {
   "cell_type": "markdown",
   "metadata": {},
   "source": [
    "### 1.1.6 Exercise Tree representations\n",
    "\n",
    "<img src=\"images/1.1.6 Exercise Tree representations.png\">"
   ]
  },
  {
   "cell_type": "markdown",
   "metadata": {},
   "source": [
    "### 1.1.7 Probability axioms\n",
    "\n",
    "https://youtu.be/2J5Vr-kB_c4\n",
    "\n",
    "Notes:\n",
    "\n",
    "(1) The probability of a point in a contineous sample space is zero. Thus in such an experiment, we consider the probability of subsets of sample space, called events.\n",
    "\n",
    "(2) Axioms\n",
    "\n",
    "- Nonnegativity: $P(A) \\geq 0 $\n",
    "- Normalization: $P(\\Omega) = 1 $\n",
    "- (Finite) additivity: if $A \\cap B = \\emptyset$, then $P(A \\cup B) = P(A) + P(B)$\n",
    "\n",
    "Those three are the only requirements in order to have a legitimate PM."
   ]
  },
  {
   "cell_type": "markdown",
   "metadata": {},
   "source": []
  }
 ],
 "metadata": {
  "kernelspec": {
   "display_name": "Python 3",
   "language": "python",
   "name": "python3"
  },
  "language_info": {
   "codemirror_mode": {
    "name": "ipython",
    "version": 3
   },
   "file_extension": ".py",
   "mimetype": "text/x-python",
   "name": "python",
   "nbconvert_exporter": "python",
   "pygments_lexer": "ipython3",
   "version": "3.7.3"
  }
 },
 "nbformat": 4,
 "nbformat_minor": 2
}
