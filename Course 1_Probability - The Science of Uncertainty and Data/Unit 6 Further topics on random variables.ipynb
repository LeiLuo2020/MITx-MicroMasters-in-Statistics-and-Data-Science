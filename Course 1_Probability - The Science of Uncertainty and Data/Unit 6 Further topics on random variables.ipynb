{
 "cells": [
  {
   "cell_type": "markdown",
   "metadata": {},
   "source": [
    "## 6.1 Unit overview"
   ]
  },
  {
   "cell_type": "markdown",
   "metadata": {},
   "source": [
    "### 6.1.1 Motivation\n",
    "\n",
    "**Question:** Couples can buy a special type of life insurance, under which benefits will be paid to their children after both people have passed away.The total cost to the couple of this kind of insurance consists of fixed monthly payments until the passing of both of them. Based on a model of life expectancy for individuals, how do we find the distribution and the expectation of the total insurance cost? How would the answer change if the lifetimes of the two people are correlated? \n",
    "\n",
    "In this unit, you'll learn how to combine probability distributions of different continuous random variables, how to measure the correlation between them and how to answer question like this."
   ]
  },
  {
   "cell_type": "markdown",
   "metadata": {},
   "source": [
    "### 6.1.2 Unit 6 overview\n",
    "\n",
    "Video URL: https://youtu.be/cmsrh5TfFa0\n",
    "\n",
    "The material in this unit is covered in Sections 4.1-4.3 and Section 4.5 of the text (omitting the material on transforms).\n",
    "\n",
    "**Topic 1: Derived distributions Y = g(X)  Z = g(X, Y)  Z = X + Y**\n",
    "\n",
    "- learn how to find the distribution that is PMF or PDF of a random variable that is defined as a function of other random variables with known distributions.\n",
    "\n",
    "**Topic 2: Define the concepts of Covariance and correlation**\n",
    "\n",
    "- help easily quantifiable manaer the strength of the relation between two dependent random variables\n",
    "\n",
    "**Topic 3: Move forward to abstraction**\n",
    "\n",
    "- revisit a familiar object, the conditional expectation can be viewed as a speccial kind of random variable then study its properties and provide thorough interpretation"
   ]
  },
  {
   "cell_type": "markdown",
   "metadata": {},
   "source": [
    "## 6.2 Lecture 11: Derived distributions"
   ]
  },
  {
   "cell_type": "markdown",
   "metadata": {},
   "source": [
    "### 6.2.1 Lecture 11 overview and slides\n",
    "\n",
    "Video URL: https://youtu.be/ybDki2NDs8Q\n",
    "\n",
    "**Given the distribution of X, find the distribution of Y = g(X)**\n",
    "\n",
    "- the discrete case\n",
    "- the continuous case\n",
    "- general approach, using CDFs\n",
    "- the linear case: Y = aX + b\n",
    "- general formula when g is monotonic\n",
    "\n",
    "**Why is it useful?** We construct a model by first defining some basic R.V.s which have simple distributions and often they are independent. But we're more interested in some more complicated R.V.s that are defined in term of our basic random variables.\n",
    "\n",
    "**Given the joint distribution of X and Y, find the distribution of Z = g(X, Y)**"
   ]
  },
  {
   "cell_type": "markdown",
   "metadata": {},
   "source": [
    "### 6.2.2 The PMF of a function of a discrete r.v.\n",
    "\n",
    "Video URL: https://youtu.be/kjQQY2uJu8Y\n",
    "\n",
    "<img src=\"images/6.2.2 The PMF of a function of a discrete r.v.1.png\">\n",
    "<img src=\"images/6.2.2 The PMF of a function of a discrete r.v.2.png\">\n",
    "\n",
    "Factor a here serves to stretch the PMF by a factor of a, and b serves to shift the PMF by b. "
   ]
  },
  {
   "cell_type": "markdown",
   "metadata": {},
   "source": [
    "### 6.2.3 Exercise: Linear functions of discrete r.v.'s\n",
    "\n",
    "<img src=\"images/Exercise Linear functions of discrete r.v.'s.png\">\n",
    "\n",
    "**Hints:**\n",
    "\n",
    "- Intuitive way: Notice that the entries of PMF of Y appear in the opposite order than X, thus a is a negative value with spread being no change from X to Y. Once a is known, shift aX to right by b.\n",
    "- Mathematic way: Calcuate value of E(X), E(Y), Var(X) and Var(Y), use E(Y)=a* E(x)+b and Var(Y) = $a^2$Var(X) to get a and b"
   ]
  },
  {
   "cell_type": "markdown",
   "metadata": {},
   "source": [
    "### 6.2.4 A linear function of a continuous r.v.\n",
    "\n",
    "Video URL: https://youtu.be/m7NRzD1yoYQ\n",
    "<img src=\"images/6.2.4 A linear function of a continuous r.v.1.png\">\n",
    "\n",
    "Here we streth X by 2 while keeping the area to 1, then move by 3\n",
    "\n",
    "<img src=\"images/6.2.4 A linear function of a continuous r.v.2.png\">\n",
    "\n",
    "Note: PDF of a continuous variable is zero as it is a point. So we need to use CDF then differentiate it to get PDF. Here the $f_Y(y)$ has a factor |a| because we need to sum all to 1."
   ]
  },
  {
   "cell_type": "markdown",
   "metadata": {},
   "source": [
    "### 6.2.5 Exercise: Linear functions of continuous r.v.'s\n",
    "\n",
    "<img src=\"images/6.2.5 Exercise Linear functions of continuous r.v.'s.png\">"
   ]
  },
  {
   "cell_type": "markdown",
   "metadata": {},
   "source": [
    "### 6.2.6 A linear function of a normal r.v.\n",
    "\n",
    "Video URL: https://youtu.be/EcoIWtJv4Cw\n",
    "\n",
    "<img src=\"images/6.2.6 A linear function of a normal r.v..png\">\n",
    "\n",
    "Note: Here X is a bell shape, then Y is achieved by scaling X with factor a then move horizontally by b, so the bell shape does not change thus Y is still a normal R.V."
   ]
  },
  {
   "cell_type": "markdown",
   "metadata": {},
   "source": [
    "### 6.2.7 The PDF of a general function\n",
    "\n",
    "Video URL: https://youtu.be/KY6xRUcTwbc\n",
    "\n",
    "<img src=\"images/6.2.7 The PDF of a general function1.png\">\n",
    "\n",
    "<img src=\"images/6.2.7 The PDF of a general function2.png\">\n",
    "\n",
    "<img src=\"images/6.2.7 The PDF of a general function3.png\">"
   ]
  },
  {
   "cell_type": "markdown",
   "metadata": {},
   "source": [
    "### 6.2.8 Exercise: PDF of a general function\n",
    "\n",
    "<img src=\"images/6.2.8 Exercise PDF of a general function.png\">"
   ]
  },
  {
   "cell_type": "markdown",
   "metadata": {},
   "source": [
    "### 6.2.9 The monotonic case\n",
    "\n",
    "Video URL: https://youtu.be/nzvSj0jbwAQ"
   ]
  },
  {
   "cell_type": "code",
   "execution_count": null,
   "metadata": {},
   "outputs": [],
   "source": []
  }
 ],
 "metadata": {
  "kernelspec": {
   "display_name": "Python 3",
   "language": "python",
   "name": "python3"
  },
  "language_info": {
   "codemirror_mode": {
    "name": "ipython",
    "version": 3
   },
   "file_extension": ".py",
   "mimetype": "text/x-python",
   "name": "python",
   "nbconvert_exporter": "python",
   "pygments_lexer": "ipython3",
   "version": "3.7.3"
  }
 },
 "nbformat": 4,
 "nbformat_minor": 2
}
