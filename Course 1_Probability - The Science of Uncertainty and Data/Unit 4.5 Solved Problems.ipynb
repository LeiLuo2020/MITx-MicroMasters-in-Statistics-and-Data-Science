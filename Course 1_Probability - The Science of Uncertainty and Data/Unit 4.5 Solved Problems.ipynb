{
 "cells": [
  {
   "cell_type": "markdown",
   "metadata": {},
   "source": [
    "### 4.5.1 PMF of a function of a random variable\n",
    "\n",
    "Video URL: https://youtu.be/8EA5suZ3vIc\n",
    "\n",
    "<img src=\"images/4.5.1 PMF of a function of a random variable.png\">"
   ]
  },
  {
   "cell_type": "markdown",
   "metadata": {},
   "source": [
    "### 4.5.2 Sampling people on buses\n",
    "\n",
    "Video URL: https://youtu.be/BsYl0yUU4qM\n",
    "\n",
    "<img src=\"images/4.5.2 Sampling people on buses.png\">"
   ]
  },
  {
   "cell_type": "markdown",
   "metadata": {},
   "source": [
    "### 4.5.3 From tail probabilities to expectations\n",
    "\n",
    "Video URL: https://youtu.be/vB6EKsX12hc\n",
    "\n",
    "<img src=\"images/4.5.3 From tail probabilities to expectations.png\">"
   ]
  },
  {
   "cell_type": "markdown",
   "metadata": {},
   "source": [
    "### 4.5.4 Coupon collector problem\n",
    "\n",
    "Video URL: https://youtu.be/0_ISFJYgeSo\n",
    "\n",
    "<img src=\"images/4.5.4 Coupon collector problem.png\">"
   ]
  },
  {
   "cell_type": "markdown",
   "metadata": {},
   "source": [
    "### 4.5.5 Conditioning example\n",
    "\n",
    "Video URL: https://youtu.be/kHc_RUqHLx4\n",
    "\n",
    "<img src=\"images/4.5.5 Conditioning example.png\">"
   ]
  },
  {
   "cell_type": "markdown",
   "metadata": {},
   "source": [
    "### 4.5.6 Joint PMF drill 1\n",
    "\n",
    "<img src=\"images/4.5.6 Joint PMF drill 1.png\">"
   ]
  },
  {
   "cell_type": "markdown",
   "metadata": {},
   "source": [
    "### 4.5.7 Joint PMF drill 2\n",
    "\n",
    "Video URL: https://youtu.be/ASqK_pZpd5s\n",
    "\n",
    "<img src=\"images/4.5.7 Joint PMF drill 2.png\">"
   ]
  },
  {
   "cell_type": "markdown",
   "metadata": {},
   "source": [
    "### 4.5.8 Joint PMF drill 3\n",
    "\n",
    "Video URL: https://youtu.be/Q6TzetFl_9E\n",
    "\n",
    "<img src=\"images/4.5.8 Joint PMF drill 3.png\">"
   ]
  },
  {
   "cell_type": "markdown",
   "metadata": {},
   "source": [
    "### 4.5.9 Indicator variables: the number of inversions\n",
    "\n",
    "Video URL: https://youtu.be/b7KNIA4w9lE\n",
    "\n",
    "<img src=\"images/4.5.9 Indicator variables the number of inversions.png\">"
   ]
  },
  {
   "cell_type": "markdown",
   "metadata": {},
   "source": [
    "### 4.5.10 Indicator variables the problem of joint lives\n",
    "\n",
    "Video URL: https://youtu.be/_V8vki6W0w0\n",
    "\n",
    "<img src=\"images/4.5.10 Indicator variables the problem of joint lives.png\">"
   ]
  },
  {
   "cell_type": "code",
   "execution_count": null,
   "metadata": {},
   "outputs": [],
   "source": []
  }
 ],
 "metadata": {
  "kernelspec": {
   "display_name": "Python 3",
   "language": "python",
   "name": "python3"
  },
  "language_info": {
   "codemirror_mode": {
    "name": "ipython",
    "version": 3
   },
   "file_extension": ".py",
   "mimetype": "text/x-python",
   "name": "python",
   "nbconvert_exporter": "python",
   "pygments_lexer": "ipython3",
   "version": "3.7.3"
  }
 },
 "nbformat": 4,
 "nbformat_minor": 2
}
