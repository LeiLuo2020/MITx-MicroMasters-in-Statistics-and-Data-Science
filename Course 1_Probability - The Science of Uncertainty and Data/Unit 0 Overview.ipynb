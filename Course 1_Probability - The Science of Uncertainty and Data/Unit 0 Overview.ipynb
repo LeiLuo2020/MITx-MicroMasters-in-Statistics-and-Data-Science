{
 "cells": [
  {
   "cell_type": "markdown",
   "metadata": {},
   "source": [
    "## 0.1 Course overview"
   ]
  },
  {
   "cell_type": "markdown",
   "metadata": {},
   "source": [
    "### 0.1.1 Course character and objectives\n",
    "\n",
    "https://youtu.be/OM3iEZGC2-k\n",
    "\n",
    "**Parallel Objectives:**\n",
    "\n",
    "**Introduce the probabilistic way of thinking, involving understanding**\n",
    "\n",
    "- the nature of probabilistic models\n",
    "- the key concepts\n",
    "- the mathematical language that go with them\n",
    "- some of the main types of models that tends to arise in applications\n",
    "\n",
    "**Introduce the basic tools of probability theory expressed in the language of mathematics**\n",
    "\n",
    "- Develop a fair number of mathematical skills\n",
    "- Indirectly, advance your ability to think with precision and to express your thinking in a mathematical language\n",
    "\n",
    "**Intuition**\n",
    "\n",
    "- This is not a math class, instead we will emphasize the interpretation of basic concepts and related facts at an intuitive level, always aiming to complement mathematical arguments with intuitive explanations**\n",
    "\n",
    "**Acquire working knowledge of the subject**\n",
    "\n",
    "- bring you to a level where you are ready to apply what you have learned to real-world problems\n",
    "\n",
    "**How do we do it:**\n",
    "\n",
    "- Cover more material than usual\n",
    "- Calculus and mental concentration is all you need\n",
    "- Capitalize on effective organization of the material"
   ]
  },
  {
   "cell_type": "markdown",
   "metadata": {},
   "source": [
    "## 0.1.2 Why study probability?\n",
    "\n",
    "https://youtu.be/cvVmmboMiyY This video is important. Watch it!!\n",
    "\n",
    "**Why study probability?**\n",
    "\n",
    "- Traditional scientific literacy:calculus, physics, chemistry, computers to help you make sense of the world\n",
    "- Uncertainty attached to pretty much every phenomenon, thus probability is also part of scientific literacy. \n",
    "\n",
    "**What caused this shift?**\n",
    "\n",
    "Two main factors: \n",
    "\n",
    "- deal with more complex systems as science and engineering move forward. You cannot expect to have a perfect model of each component or to know the exact state of every piece of the system. So, the uncertainty is at the foreground and needs to be modelled.\n",
    "- We’re living in an information society. The data and information are only useful when they can tell us something we did not know. Their reason for existence is to reduce uncertainty. To deal with or fighter with uncertainty, you’d better understand its nature and have the tools to describe it and analyse it. This is why probability and its children – statistics and inference – is a must.  \n",
    "\n",
    "**Where is probability useful?**\n",
    "\n",
    "Any scientific field, other than the motion of the planets, everything else involves uncertainty and calls for probabilistic models.\n",
    "\n",
    "- physics (quantum mechanics taught us nature is inherently uncertain)\n",
    "- biologic evolution which progresses through the accumulation of many random effects, like mutations within an uncertainty environment; the haystack of biological data that we are accumulating and that needs to be sifted using statistical tools in order to make progress in the biological science\n",
    "- communications & signal processing (fight against the noise, an effort to clean signals from the noise that nature has added)\n",
    "- management (customer demand is random and you want to model it and predict it)\n",
    "- finance (markets are uncertain and whoever has the best methods to analyse financial data has an advantage)\n",
    "- transportation (random disruptions due to weather or accidents are a major concern)\n",
    "- trends in social networks (spread epidemics but in ways that are hard to predict)\n",
    "- · · · · · ·\n",
    "\n",
    "Most phenomenon involve significant randomness and the only reason we collect and manipulate data is because we want to fight this randomness as much as we can. And the first step in fighting an enemy like randomness is to study and understand your enemy."
   ]
  },
  {
   "cell_type": "markdown",
   "metadata": {},
   "source": [
    "### 0.1.3 Course contents\n",
    "\n",
    "https://youtu.be/yXbKcmgpv58\n",
    "\n",
    "Unit 1-5,8 cover undergraduate level probability class\n",
    "\n",
    "<img src=\"images/0.1.3 Course contents.png\">"
   ]
  },
  {
   "cell_type": "markdown",
   "metadata": {},
   "source": [
    "## 0.2 Course Introduction, objectives and study guide"
   ]
  },
  {
   "cell_type": "markdown",
   "metadata": {},
   "source": [
    "### 0.2.1 Introduction\n",
    "\n",
    "The course covers all the basic probability concepts, including:\n",
    "\n",
    "- multiple discrete or continuous random variables, expectations, and conditional distributions\n",
    "- laws of large numbers\n",
    "- the main tools of Bayesian inference methods\n",
    "- an introduction to random processes (Poisson processes and Markov chains)"
   ]
  },
  {
   "cell_type": "markdown",
   "metadata": {},
   "source": [
    "### 0.2.2 Course objectives\n",
    "\n",
    "Upon successful completion of this course, you will:\n",
    "\n",
    "At a conceptual level:\n",
    "\n",
    "- Master the basic concepts associated with probability models\n",
    "- Be able to translate models described in words to mathematical ones.\n",
    "- Understand the main concepts and assumptions underlying Bayesian and classical inference.\n",
    "- Obtain some familiarity with the range of applications of inference methods.\n",
    "\n",
    "At a more technical level:\n",
    "\n",
    "- Become familiar with basic and common probability distributions.\n",
    "- Learn how to use conditioning to simplify the analysis of complicated models.\n",
    "- Have facility manipulating probability mass functions, densities, and expectations.\n",
    "- Develop a solid understanding of the concept of conditional expectation and its role in inference.\n",
    "- Understand the power of laws of large numbers and be able to use them when appropriate.\n",
    "- Become familiar with the basic inference methodologies (for both estimation and hypothesis testing) and be able to apply them.\n",
    "- Acquire a good understanding of two basic stochastic processes (Bernoulli and Poisson) and their use in modelling.\n",
    "- Learn how to formulate simple dynamical models as Markov chains and analyse them."
   ]
  },
  {
   "cell_type": "markdown",
   "metadata": {},
   "source": [
    "### 0.2.3 Study guide\n",
    "\n",
    "- Start with the overview of a unit and at the end of a unit, watch the unit summary to consolidate your understanding of the “big picture\" and of the relation between different concepts.\n",
    "- Watch the lecture videos. \n",
    "- Do the exercises! \n",
    "- Solved problems and additional materials. In most of the units, we are providing you with many problems that are solved by members of our staff. it is important that you get exposed to a large number of problems.\n",
    "- The textbook. \n",
    "- Problem sets. One can really master the subject only by solving problems – a large number of them. \n",
    "- Exams. The midterm exams are designed so that in an on-campus version, learners would be given two hours. The final exam is designed so that in an on-campus version, learners would be given three hours.\n",
    "- Time management. In a typical week, there will be 2 hours of lecture clips, but it might take you 4-5 hours when you add the time spent on exercises. Plan to spend another 3-4 hours watching solved problems and additional materials, and on textbook readings. Finally, expect about 4 hours spent on the weekly problem sets.\n",
    "- Additional practice problems at the end of each chapter of the print edition of the book, whose solutions are available online.\n",
    "\n",
    "**Q&A:**\n",
    "\n",
    "**What courses would you consider direct follow-on courses to this course. e.g how does this basic course in probability \"Branch out”?**\n",
    "\n",
    "- Answer 1: Well, it sorts of depends on what you wish to learn. On the one hand, this course is part of a data analytics track on EdX, and you can consider the stats course that comes up after this one. On the other hand, if you wish to pursue the maths route, you can study analysis and measure theory. There aren't any MOOCs for those, as far as I know, but you can find complete lectures on YouTube. Of course, if you have the luxury of being at uni with good teachers, you should consult them. :)\n",
    "\n",
    "- Answer 2: I agree it depends a lot on what you want to study. A natural follow on from here would be 6.437 Inference and Information which covers several of the topics here, such as Bayesian inference, decision theory, and probability theory in more depth, and then goes through all the material again from the lenses of information theory. Depending on what you want to use it for, you might look for an advanced course in [statistics](https://ocw.mit.edu/courses/mathematics/18-650-statistics-for-applications-fall-2016/), [information theory](https://ocw.mit.edu/courses/electrical-engineering-and-computer-science/6-441-information-theory-spring-2010/), [measure theory](https://ocw.mit.edu/courses/mathematics/18-125-measure-and-integration-fall-2003/index.htm), [stochastic processes](https://ocw.mit.edu/courses/mathematics/18-445-introduction-to-stochastic-processes-spring-2015/), [causal inference](http://bayes.cs.ucla.edu/BOOK-2K/), [machine learning](https://ocw.mit.edu/courses/electrical-engineering-and-computer-science/6-867-machine-learning-fall-2006/), or the [probabilistic method](http://www.math.wisc.edu/~roch/mdp/index.html). Whatever field you might want to apply this to will also have its collection of what topics and methods are important, whether that be biology, cognitive science, algorithms, systems engineering, operations research, or finance. So, finding a course on probability or uncertainty in the topic you’re interested in may be an even better option."
   ]
  },
  {
   "cell_type": "markdown",
   "metadata": {},
   "source": []
  }
 ],
 "metadata": {
  "kernelspec": {
   "display_name": "Python 3",
   "language": "python",
   "name": "python3"
  },
  "language_info": {
   "codemirror_mode": {
    "name": "ipython",
    "version": 3
   },
   "file_extension": ".py",
   "mimetype": "text/x-python",
   "name": "python",
   "nbconvert_exporter": "python",
   "pygments_lexer": "ipython3",
   "version": "3.7.3"
  }
 },
 "nbformat": 4,
 "nbformat_minor": 2
}
