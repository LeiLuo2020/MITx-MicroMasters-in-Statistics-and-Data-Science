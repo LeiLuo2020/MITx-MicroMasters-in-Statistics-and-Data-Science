{
 "cells": [
  {
   "cell_type": "markdown",
   "metadata": {},
   "source": [
    "## 9.1 Unit Overview"
   ]
  },
  {
   "cell_type": "markdown",
   "metadata": {},
   "source": [
    "### 9.1.1 Motivation\n",
    "\n",
    "https://youtu.be/fJPgB0hssWs"
   ]
  },
  {
   "cell_type": "markdown",
   "metadata": {},
   "source": [
    "### 9.1.2 Unit 9 overview\n",
    "\n",
    "https://youtu.be/HOTPGizc7P8\n",
    "\n",
    "The material in this unit is covered in Chapter 6 of the text."
   ]
  },
  {
   "cell_type": "markdown",
   "metadata": {},
   "source": [
    "## 9.2 The Bernoulli process"
   ]
  },
  {
   "cell_type": "markdown",
   "metadata": {},
   "source": [
    "### 9.2.1 Lecture 21 Overview and slides\n",
    "\n",
    "https://youtu.be/UprXboRRHqE\n",
    "\n",
    "Notes:\n",
    "\n",
    "- study various associated random variables (e.g., number of successes, arrival time of the kth success, time between consecutive successes, etc.)\n",
    "- discuss the merging and splitting of Bernoulli arrival streams\n",
    "\n",
    "The material in this lecture is covered in Section 6.1 of the text. "
   ]
  },
  {
   "cell_type": "markdown",
   "metadata": {},
   "source": [
    "### 9.2.2 The Bernoulli Process\n",
    "\n",
    "https://youtu.be/yo-Ir72cZsE"
   ]
  },
  {
   "cell_type": "markdown",
   "metadata": {},
   "source": [
    "### 9.2.3 Exercise The Bernoulli process\n",
    "\n",
    "<img src=\"images/9.2.3 Exercise The Bernoulli process.png\">"
   ]
  },
  {
   "cell_type": "markdown",
   "metadata": {},
   "source": [
    "### 9.2.4 Stochastic processes\n",
    "\n",
    "https://youtu.be/aTVC36PwFa0"
   ]
  },
  {
   "cell_type": "markdown",
   "metadata": {},
   "source": [
    "### 9.2.5 Review of known properties of the Bernoulli process\n",
    "\n",
    "https://youtu.be/qWyceMIwlMo"
   ]
  },
  {
   "cell_type": "markdown",
   "metadata": {},
   "source": [
    "### 9.2.6 Exercise Time until the first failure\n",
    "\n",
    "<img src=\"images/9.2.6 Exercise Time until the first failure.png\">"
   ]
  },
  {
   "cell_type": "markdown",
   "metadata": {},
   "source": [
    "### 9.2.7 The fresh start property\n",
    "\n",
    "https://youtu.be/HZnr8KJaZAk"
   ]
  },
  {
   "cell_type": "markdown",
   "metadata": {},
   "source": [
    "### 9.2.8 Exercise Fresh start\n",
    "\n",
    "<img src=\"images/9.2.8 Exercise Fresh start.png\">"
   ]
  },
  {
   "cell_type": "markdown",
   "metadata": {},
   "source": [
    "### 9.2.9 Exercise More on fresh start\n",
    "\n",
    "<img src=\"images/9.2.9 Exercise More on fresh start.png\">"
   ]
  },
  {
   "cell_type": "markdown",
   "metadata": {},
   "source": [
    "### 9.2.10 Example The distribution of a busy period\n",
    "\n",
    "https://youtu.be/e5oIpwQZusE"
   ]
  },
  {
   "cell_type": "markdown",
   "metadata": {},
   "source": [
    "### 9.2.11 Exercise Busy periods\n",
    "\n",
    "<img src=\"images/9.2.11 Exercise Busy periods.png\">"
   ]
  },
  {
   "cell_type": "markdown",
   "metadata": {},
   "source": [
    "### 9.2.12 The time of the kth arrival\n",
    "\n",
    "https://youtu.be/oT8Fg4KZGHQ\n",
    "\n",
    "<img src=\"images/9.2.12 The time of the kth arrival.png\">"
   ]
  },
  {
   "cell_type": "markdown",
   "metadata": {},
   "source": [
    "### 9.2.13 Merging of Bernoulli processes\n",
    "\n",
    "https://youtu.be/71hTHtEKFMs"
   ]
  },
  {
   "cell_type": "markdown",
   "metadata": {},
   "source": [
    "### 9.2.14 Exercise A variation on merging\n",
    "\n",
    "<img src=\"images/9.2.14 Exercise A variation on merging.png\">"
   ]
  },
  {
   "cell_type": "markdown",
   "metadata": {},
   "source": [
    "### 9.2.15 Splitting a Bernoulli process\n",
    "\n",
    "https://youtu.be/EqgVDxBBY6w"
   ]
  },
  {
   "cell_type": "markdown",
   "metadata": {},
   "source": [
    "### 9.2.16 Exercise Splitting\n",
    "\n",
    "<img src=\"images/9.2.16 Exercise Splitting.png\">"
   ]
  },
  {
   "cell_type": "markdown",
   "metadata": {},
   "source": [
    "### 9.2.17 The Poisson approximation to the Binomial\n",
    "\n",
    "https://youtu.be/vW5-A1WZWrg"
   ]
  },
  {
   "cell_type": "markdown",
   "metadata": {},
   "source": [
    "## 9.3 Lec 22: The Poisson process"
   ]
  },
  {
   "cell_type": "markdown",
   "metadata": {},
   "source": [
    "### 9.3.1 Lec 22 overview and slides\n",
    "\n",
    "https://youtu.be/j0xehrTQGzM\n",
    "\n",
    "\n",
    "\n",
    "Notes:\n",
    "\n",
    "- The material in this lecture is covered in the first half of Section 6.2 in the text\n",
    "- introduce the Poisson process, a continuous-time analog of the Bernoulli process\n",
    "- study various associated random variables (e.g., number of successes, arrival time of the kth success, time between consecutive successes, etc.)"
   ]
  },
  {
   "cell_type": "markdown",
   "metadata": {},
   "source": [
    "### 9.3.2 Definition of the Poisson process\n",
    "\n",
    "https://youtu.be/7MBaNqp0u0s"
   ]
  },
  {
   "cell_type": "markdown",
   "metadata": {},
   "source": [
    "### 9.3.3 Exercise Poisson process definition\n",
    "\n",
    "<img src=\"images/9.3.3 Exercise Poisson process definition.png\">"
   ]
  },
  {
   "cell_type": "markdown",
   "metadata": {},
   "source": [
    "### 9.3.4 Applications of the Poisson process\n",
    "\n",
    "https://youtu.be/WXMT3Fv0VUU"
   ]
  },
  {
   "cell_type": "markdown",
   "metadata": {},
   "source": [
    "### 9.3.5 Exercise Poisson models\n",
    "\n",
    "<img src=\"images/9.3.5 Exercise Poisson models.png\">"
   ]
  },
  {
   "cell_type": "markdown",
   "metadata": {},
   "source": [
    "### 9.3.6 The Poisson PMF for the number of arrivals\n",
    "\n",
    "https://youtu.be/eTLa9GDID8A"
   ]
  },
  {
   "cell_type": "markdown",
   "metadata": {},
   "source": [
    "### 9.3.7 The mean and variance of the number of arrivals\n",
    "\n",
    "https://youtu.be/A2rgjRAOcW8"
   ]
  },
  {
   "cell_type": "markdown",
   "metadata": {},
   "source": [
    "### 9.3.8 A simple example\n",
    "\n",
    "https://youtu.be/pKifMxWZajQ"
   ]
  },
  {
   "cell_type": "markdown",
   "metadata": {},
   "source": [
    "### 9.3.9 Exercise Poisson practice\n",
    "\n",
    "<img src=\"images/9.3.9 Exercise Poisson practice.png\">"
   ]
  },
  {
   "cell_type": "markdown",
   "metadata": {},
   "source": [
    "### 9.3.10 Time of the kth arrival\n",
    "\n",
    "https://youtu.be/L0zaNYzpqzI"
   ]
  },
  {
   "cell_type": "markdown",
   "metadata": {},
   "source": [
    "### 9.3.11 The fresh start property and its implications\n",
    "\n",
    "https://youtu.be/lPsFLyrHaVQ"
   ]
  },
  {
   "cell_type": "markdown",
   "metadata": {},
   "source": [
    "### 9.3.12 Exercise Describing events\n",
    "\n",
    "<img src=\"images/9.3.12 Exercise Describing events.png\">"
   ]
  },
  {
   "cell_type": "markdown",
   "metadata": {},
   "source": [
    "### 9.3.13 xercise Erlang r.v.'s\n",
    "\n",
    "<img src=\"images/9.3.13 xercise Erlang r.v.'s.png\">"
   ]
  },
  {
   "cell_type": "markdown",
   "metadata": {},
   "source": [
    "### 9.3.14 Exercise The time of the kth arrival\n",
    "\n",
    "<img src=\"images/9.3.14 Exercise The time of the kth arrival.png\">"
   ]
  },
  {
   "cell_type": "markdown",
   "metadata": {},
   "source": [
    "### 9.3.15 Summary of results\n",
    "\n",
    "https://youtu.be/BebJACDUjNo"
   ]
  },
  {
   "cell_type": "markdown",
   "metadata": {},
   "source": [
    "### 9.3.16 An example\n",
    "\n",
    "https://youtu.be/R7bSviW0YOg"
   ]
  },
  {
   "cell_type": "markdown",
   "metadata": {},
   "source": [
    "### 9.3.17 Exercise Bank tellers\n",
    "\n",
    "<img src=\"images/9.3.17 Exercise Bank tellers.png\">"
   ]
  },
  {
   "cell_type": "markdown",
   "metadata": {},
   "source": [
    "## 9.4 Lec 23 MOre on the Poisson process"
   ]
  },
  {
   "cell_type": "markdown",
   "metadata": {},
   "source": [
    "### 9.4.1 Lec 23 overview and slides\n",
    "\n",
    "https://youtu.be/moPB9y6aslg\n",
    "\n",
    "Notes:\n",
    "\n",
    "- The material in this lecture is covered in the second half of Section 6.2 in the text. \n",
    "- discuss the merging and splitting of Poisson processes, and how these can be exploited to solve various problems related to Poisson processes.\n",
    "- conclude with the discussion of the random incidence phenomenon: we will explain why an observer who arrives at a certain time tends to see (on the average) atypically large interarrival intervals. "
   ]
  },
  {
   "cell_type": "markdown",
   "metadata": {},
   "source": [
    "### 9.4.2 The sum of independent Poisson random variables\n",
    "\n",
    "https://youtu.be/0J5acxn3y5c"
   ]
  },
  {
   "cell_type": "markdown",
   "metadata": {},
   "source": [
    "### 9.4.3 Exercise The sum of Poisson r.v.'s\n",
    "\n",
    "<img src=\"images/9.4.3 Exercise The sum of Poisson r.v.'s.png\">"
   ]
  },
  {
   "cell_type": "markdown",
   "metadata": {},
   "source": [
    "### 9.4.4 Exercise People in the park\n",
    "\n",
    "<img src=\"images/Merging independent Poisson processes.png\">"
   ]
  },
  {
   "cell_type": "markdown",
   "metadata": {},
   "source": [
    "### 9.4.5 Merging independent Poisson processes\n",
    "\n",
    "https://youtu.be/9lREmt83-kM"
   ]
  },
  {
   "cell_type": "markdown",
   "metadata": {},
   "source": [
    "### 9.4.6 Exercise Processes in the park\n",
    "\n",
    "<img src=\"images/9.4.6 Exercise Processes in the park.png\">"
   ]
  },
  {
   "cell_type": "markdown",
   "metadata": {},
   "source": [
    "### 9.4.7 Where is an arrival of the merged process coming from\n",
    "\n",
    "https://youtu.be/SGiqr3vfcTw"
   ]
  },
  {
   "cell_type": "markdown",
   "metadata": {},
   "source": [
    "### 9.4.8 Exercise What kind of people are they\n",
    "\n",
    "<img src=\"images/9.4.8 Exercise What kind of people are they.png\">"
   ]
  },
  {
   "cell_type": "markdown",
   "metadata": {},
   "source": [
    "### 9.4.9 The time until the first (or last) lightbulb burns out\n",
    "\n",
    "https://youtu.be/FXRZb6ga3zg"
   ]
  },
  {
   "cell_type": "markdown",
   "metadata": {},
   "source": [
    "### 9.4.10 Exercise Lightbulb burnouts \n",
    "\n",
    "<img src=\"images/9.4.10 Exercise Lightbulb burnouts .png\">"
   ]
  },
  {
   "cell_type": "markdown",
   "metadata": {},
   "source": [
    "### 9.4.11 Exercise The busy tellers\n",
    "\n",
    "<img src=\"images/9.4.11 Exercise The busy tellers.png\">"
   ]
  },
  {
   "cell_type": "markdown",
   "metadata": {},
   "source": [
    "### 9.4.12 Splitting a Poisson process\n",
    "\n",
    "https://youtu.be/jJBjXLw0J_8"
   ]
  },
  {
   "cell_type": "markdown",
   "metadata": {},
   "source": [
    "### 9.4.13 Exercise At the coffee shop\n",
    "\n",
    "<img src=\"images/9.4.13 Exercise At the coffee shop.png\">"
   ]
  },
  {
   "cell_type": "markdown",
   "metadata": {},
   "source": [
    "### 9.4.14 Random incidence in the Poisson process\n",
    "\n",
    "https://youtu.be/Lpf-LMJCSEM"
   ]
  },
  {
   "cell_type": "markdown",
   "metadata": {},
   "source": [
    "### 9.4.15 Exercise Random incidence\n",
    "\n",
    "<img src=\"images/9.4.15 Exercise Random incidence.png\">"
   ]
  },
  {
   "cell_type": "markdown",
   "metadata": {},
   "source": [
    "### 9.4.16 Random incidence in a non-Poisson process\n",
    "\n",
    "https://youtu.be/5Yje4WZgPvU"
   ]
  },
  {
   "cell_type": "markdown",
   "metadata": {},
   "source": [
    "### 9.4.17 Exercise Non-Poisson random incidence\n",
    "\n",
    "<img src=\"images/9.4.17 Exercise Non-Poisson random incidence.png\">"
   ]
  },
  {
   "cell_type": "markdown",
   "metadata": {},
   "source": [
    "### 9.4.18 Sampling methods matter\n",
    "\n",
    "https://youtu.be/3hfj2xyHYJw"
   ]
  },
  {
   "cell_type": "markdown",
   "metadata": {},
   "source": [
    "### 9.4.19 Exercise Sampling methods\n",
    "\n",
    "<img src=\"images/9.4.19 Exercise Sampling methods.png\">"
   ]
  },
  {
   "cell_type": "markdown",
   "metadata": {},
   "source": [
    "## 9.5 Solved problems"
   ]
  },
  {
   "cell_type": "markdown",
   "metadata": {},
   "source": [
    "### 9.5.1 Bernoulli process practice I\n",
    "\n",
    "<img src=\"images/9.5.1 Bernoulli process practice I.png\">\n",
    "\n",
    "https://youtu.be/W0bJOCd1j5U\n",
    "\n",
    "<img src=\"images/9.5.1 Bernoulli process practice I1.png\">"
   ]
  },
  {
   "cell_type": "markdown",
   "metadata": {},
   "source": [
    "### 9.5.2 Bernoulli process practice II\n",
    "\n",
    "<img src=\"images/9.5.2 Bernoulli process practice II.png\">\n",
    "\n",
    "https://youtu.be/PKl2TW3mjWg"
   ]
  },
  {
   "cell_type": "markdown",
   "metadata": {},
   "source": [
    "### 9.5.3 Poisson process drill\n",
    "\n",
    "<img src=\"images/9.5.3 Poisson process drill.png\">\n",
    "\n",
    "https://youtu.be/lPV_ggLoR0w"
   ]
  },
  {
   "cell_type": "markdown",
   "metadata": {},
   "source": [
    "### 9.5.4 Poisson process practice I\n",
    "\n",
    "<img src=\"images/9.5.4 Poisson process practice I.png\">\n",
    "\n",
    "https://youtu.be/rbNnf1RfQ4s"
   ]
  },
  {
   "cell_type": "markdown",
   "metadata": {},
   "source": [
    "### 9.5.5 Poisson process practice II\n",
    "\n",
    "<img src=\"images/9.5.5 Poisson process practice II.png\">\n",
    "\n",
    "https://youtu.be/Y8H5uAJXrRU"
   ]
  },
  {
   "cell_type": "markdown",
   "metadata": {},
   "source": [
    "### 9.5.6 Competing exponentials\n",
    "\n",
    "https://youtu.be/QnDCXpsqc4Y"
   ]
  },
  {
   "cell_type": "markdown",
   "metadata": {},
   "source": [
    "### 9.5.7 Random incidence under Erlang arrivals\n",
    "\n",
    "<img src=\"images/9.5.7 Random incidence under Erlang arrivals.png\">\n",
    "\n",
    "https://youtu.be/Og2pQk_Ysu4"
   ]
  },
  {
   "cell_type": "markdown",
   "metadata": {},
   "source": [
    "## 9.6 Additonal theoretical material"
   ]
  },
  {
   "cell_type": "markdown",
   "metadata": {},
   "source": [
    "### 9.6.1 Poisson versus normal approximation to the binomial\n",
    "\n",
    "<img src=\"images/9.6.1 Poisson versus normal approximation to the binomial.png\">\n",
    "\n",
    "https://youtu.be/_5OJmGaQ34k"
   ]
  },
  {
   "cell_type": "markdown",
   "metadata": {},
   "source": [
    "### 9.6.2 Poisson arrivals during an exponential interval\n",
    "\n",
    "<img src=\"images/9.6.2 Poisson arrivals during an exponential interval.png\">\n",
    "\n",
    "https://youtu.be/PbJhCgBhaJU"
   ]
  },
  {
   "cell_type": "markdown",
   "metadata": {},
   "source": [
    "### 9.6.3 Sums of a binomial and a Poisson-distributed number of Bernoulli r.v.'s\n",
    "\n",
    "<img src=\"images/9.6.3 Sums of a binomial and a Poisson-distributed number of Bernoulli r.v.'s.png\">\n",
    "\n",
    "https://youtu.be/_YkNHJAeOas"
   ]
  },
  {
   "cell_type": "markdown",
   "metadata": {},
   "source": [
    "### 9.6.4 Sum of a geometrically-distributed number of geometric and exponential r.v.'s\n",
    "\n",
    "<img src=\"images/9.6.4 Sum of a geometrically-distributed number of geometric and exponential r.v.'s.png\">\n",
    "\n",
    "https://youtu.be/vOl9RXM4qqc"
   ]
  },
  {
   "cell_type": "markdown",
   "metadata": {},
   "source": [
    "## 9.7 Problem set 9"
   ]
  },
  {
   "cell_type": "markdown",
   "metadata": {},
   "source": [
    "### 9.7.1 Marie gives away children toys\n",
    "\n",
    "<img src=\"images/9.7.1 Marie gives away children toys1.png\">\n",
    "<img src=\"images/9.7.1 Marie gives away children toys2.png\">"
   ]
  },
  {
   "cell_type": "markdown",
   "metadata": {},
   "source": [
    "### 9.7.2 Three engines\n",
    "\n",
    "<img src=\"images/9.7.2 Three engines1.png\">\n",
    "<img src=\"images/9.7.2 Three engines2.png\">"
   ]
  },
  {
   "cell_type": "markdown",
   "metadata": {},
   "source": [
    "### 9.7.3 Shuttles\n",
    "\n",
    "<img src=\"images/9.7.3 Shuttles1.png\">\n",
    "<img src=\"images/9.7.3 Shuttles2.png\">"
   ]
  },
  {
   "cell_type": "markdown",
   "metadata": {},
   "source": [
    "### 9.7.4 Ships\n",
    "\n",
    "<img src=\"images/9.7.4 Ships1.png\">\n",
    "<img src=\"images/9.7.4 Ships2.png\">"
   ]
  },
  {
   "cell_type": "markdown",
   "metadata": {},
   "source": [
    "### 9.7.5 Arrivals during overlapping time intervals\n",
    "\n",
    "<img src=\"images/9.7.5 Arrivals during overlapping time intervals.png\">"
   ]
  },
  {
   "cell_type": "markdown",
   "metadata": {},
   "source": [
    "### 9.7.6 Random incidence under Erlang interarrivals\n",
    "\n",
    "<img src=\"images/9.7.6 Random incidence under Erlang interarrivals.png\">"
   ]
  },
  {
   "cell_type": "markdown",
   "metadata": {},
   "source": [
    "### 9.7.7 Sampling families\n",
    "\n",
    "<img src=\"images/9.7.7 Sampling families.png\">"
   ]
  },
  {
   "cell_type": "markdown",
   "metadata": {},
   "source": [
    "### 9.7.8 Poisson fun\n",
    "\n",
    "<img src=\"images/9.7.8 Poisson fun.png\">"
   ]
  },
  {
   "cell_type": "markdown",
   "metadata": {},
   "source": [
    "## 9.8 Unit 9 Summary\n",
    "\n",
    "https://youtu.be/vhnmr_w-Qgg"
   ]
  },
  {
   "cell_type": "markdown",
   "metadata": {},
   "source": []
  }
 ],
 "metadata": {
  "kernelspec": {
   "display_name": "Python 3",
   "language": "python",
   "name": "python3"
  },
  "language_info": {
   "codemirror_mode": {
    "name": "ipython",
    "version": 3
   },
   "file_extension": ".py",
   "mimetype": "text/x-python",
   "name": "python",
   "nbconvert_exporter": "python",
   "pygments_lexer": "ipython3",
   "version": "3.7.3"
  }
 },
 "nbformat": 4,
 "nbformat_minor": 2
}
