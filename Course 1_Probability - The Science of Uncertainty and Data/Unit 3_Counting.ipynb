{
 "cells": [
  {
   "cell_type": "markdown",
   "metadata": {},
   "source": [
    "## 3.1 Lecture 4: Counting"
   ]
  },
  {
   "cell_type": "markdown",
   "metadata": {},
   "source": [
    "### 3.1.1 Movivation\n",
    "\n",
    "Video URL: https://youtu.be/nEEpOu5CMKI\n",
    "\n",
    "**Key notes:**\n",
    "\n",
    "- In a card game at the Casino, you deal with five random cards drawn from a standard deck of 52 cards. What are the chances your five cards includes more than one ace?\n",
    "- How likely is that the hand contains a sequence of five consecutive numbers?\n",
    "\n",
    "We'll develop a systematic method for answering them."
   ]
  },
  {
   "cell_type": "markdown",
   "metadata": {},
   "source": [
    "### 3.1.2 Overview and slides\n",
    "\n",
    "Video URL: https://youtu.be/NeORkUVUi8E\n",
    "\n",
    "Textbook section: 1.6\n",
    "\n",
    "<img src=\"images/3.1.2 Overview and slides.png\">\n",
    "\n",
    "**Key notes:**\n",
    "\n",
    "- A basketball coach will choose five players for the starting lineup and seven sitting on the bench from 20 available players. How many ways can the coach choose these five plus seven players? \n",
    "\n",
    "In this lession, we'll answer questions of this kind.More abstractly, we will develop methods for counting the number of elements of a given set which is described in some implicit way. Why do we care? Because in many models, the calculation of probabilities reduces to counting, counting the number of elements of various sets"
   ]
  },
  {
   "cell_type": "markdown",
   "metadata": {},
   "source": [
    "### 3.1.3 The counting principle\n",
    "\n",
    "Video URL: https://youtu.be/xXFXHfGrCkI\n",
    "\n",
    "<img src=\"images/3.1.3 The counting principle1.png\">\n",
    "<img src=\"images/3.1.3 The counting principle2.png\">\n",
    "\n",
    "**Key notes:**\n",
    "\n",
    "- n! means n factorial which is the product of all integers from 1 all the way up to n."
   ]
  },
  {
   "cell_type": "markdown",
   "metadata": {},
   "source": [
    "### 3.1.4 Exercise: Counting\n",
    "\n",
    "<img src=\"images/3.1.4 Exercise Counting.png\">\n",
    "\n",
    "**Hints:**\n",
    "- Q1: Refer to Permutations example in 3.1.3\n",
    "- Q2: Refer to Number of subsets example in 3.1.3\n",
    "- Q3: Treat \"AB\" as one letter to make the question as making four-letter strings with each letter appears exactly once. Do the same to \"BA\" then add two countings together.\n",
    "\n",
    "**Good discussions collection**\n",
    "\n",
    "1. Does the basic counting principle apply to trees in which nodes of the same stage have a different number of choices? For instance, in stage 3, we have a node N1 that has 3 possible choices, and on a separate branch, a stage 3 node N2 that has 5 different choices. In this case, how do we calculate the total number of possible outcomes?\n",
    "\n",
    "Answer by sudarsanvsr_mit (Staff)\n",
    "\n",
    "Yes the tree structure can be used where each stage corresponds to different possibilities applicable to one selected position in a sequential manner in these type of problems.\\\n",
    "For second Q, you just have to add all possibilities leading from each branch as there is no stage consistency(branches from each branch) you cannot multiply each stage possibilities to get the total possibilities as shown in lecture video.\n",
    "It takes too much time draw tree structure for bigger problems so it is better for you to practise using the procedure professor is following."
   ]
  },
  {
   "cell_type": "markdown",
   "metadata": {},
   "source": [
    "### 3.1.5 Die roll example\n",
    "\n",
    "Video URL: https://youtu.be/pSLx0keOU0U\n",
    "\n",
    "<img src=\"images/3.1.5 Die roll example.png\">"
   ]
  },
  {
   "cell_type": "markdown",
   "metadata": {},
   "source": [
    "### 3.1.6 Exercise: Use counting to calculate probabilities\n",
    "\n",
    "<img src=\"images/3.1.6 Exercise Use counting to calculate probabilities.png\">"
   ]
  },
  {
   "cell_type": "markdown",
   "metadata": {},
   "source": [
    "### 3.1.7 combinations\n",
    "\n",
    "Video URL: https://youtu.be/9pNcPbGBuFg\n",
    "\n",
    "<img src=\"images/3.1.7 combinations1.png\">\n",
    "<img src=\"images/3.1.7 combinations2.png\">\n",
    "\n",
    "**Discussions:**\n",
    "\n",
    "Q1: The definition of a subset\n",
    "\n",
    "Q2: When defining the total number of subsets of a set of n elements as 2^n, are these subsets in which no element can be used no more than once. What if those elements can be re-used? \\\n",
    "\n",
    "A2:In general, a set, by definition, cannot contain more than one occurrence of the same element (this has nothing to do with probability; it is from set theory).\n",
    "\n"
   ]
  },
  {
   "cell_type": "markdown",
   "metadata": {},
   "source": [
    "### 3.1.8 Exercise: Counting committees\n",
    "\n",
    "<img src=\"images/3.1.8 Exercise Counting committees.png\">\n",
    "\n",
    "**Hinsts:**\n",
    "\n",
    "- First to choose a chairman thus we have n choices, then choose the remaining commitee members from the rest n-1 people, how many choices you have?"
   ]
  },
  {
   "cell_type": "markdown",
   "metadata": {},
   "source": [
    "### 3.1.9 Binomial probabilities\n",
    "\n",
    "Video URL: https://youtu.be/g0JZEOZPITo\n",
    "\n",
    "<img src=\"images/3.1.9 Binomial probabilities.png\">"
   ]
  },
  {
   "cell_type": "markdown",
   "metadata": {},
   "source": [
    "### 3.1.10 Exercise: Binomial probabilities\n",
    "\n",
    "<img src=\"images/3.1.10 Exercise Binomial probabilities.png\">\n",
    "\n",
    "**Hints:**\n",
    "\n",
    "- Events 0 head, 1 head, 2 heads, ..., n heads are all disjioint. Use the additivity axom and you'll know."
   ]
  },
  {
   "cell_type": "markdown",
   "metadata": {},
   "source": [
    "### 3.1.11 A coin tossing example\n",
    "\n",
    "Video URL: https://youtu.be/wbiZIz76rRo\n",
    "\n",
    "<img src=\"images/3.1.11 A coin tossing example1.png\">\n",
    "<img src=\"images/3.1.11 A coin tossing example2.png\">"
   ]
  },
  {
   "cell_type": "markdown",
   "metadata": {},
   "source": [
    "### 3.1.12 Exercise: Coin tossing\n",
    "\n",
    "<img src=\"images/3.1.12 Exercise Coin tossing.png\">"
   ]
  },
  {
   "cell_type": "markdown",
   "metadata": {},
   "source": [
    "### 3.1.13 Partitions\n",
    "\n",
    "Video URL: https://youtu.be/hEACL6xJ1ts\n",
    "\n",
    "<img src=\"images/3.1.13 Partitions1.png\">"
   ]
  },
  {
   "cell_type": "markdown",
   "metadata": {},
   "source": [
    "### 3.1.14 Exercise: Counting partitions\n",
    "\n",
    "<img src=\"images/3.1.14 Partitions Exercise.png\">"
   ]
  },
  {
   "cell_type": "markdown",
   "metadata": {},
   "source": [
    "### 3.1.15 Each person gets an ace\n",
    "\n",
    "Video URL: https://youtu.be/ig7ztHAd2J4\n",
    "\n",
    "<img src=\"images/3.1.15 Each person gets an ace1.png\">\n",
    "<img src=\"images/3.1.15 Each person gets an ace2.png\">"
   ]
  },
  {
   "cell_type": "code",
   "execution_count": null,
   "metadata": {},
   "outputs": [],
   "source": []
  }
 ],
 "metadata": {
  "kernelspec": {
   "display_name": "Python 3",
   "language": "python",
   "name": "python3"
  },
  "language_info": {
   "codemirror_mode": {
    "name": "ipython",
    "version": 3
   },
   "file_extension": ".py",
   "mimetype": "text/x-python",
   "name": "python",
   "nbconvert_exporter": "python",
   "pygments_lexer": "ipython3",
   "version": "3.7.3"
  }
 },
 "nbformat": 4,
 "nbformat_minor": 2
}
